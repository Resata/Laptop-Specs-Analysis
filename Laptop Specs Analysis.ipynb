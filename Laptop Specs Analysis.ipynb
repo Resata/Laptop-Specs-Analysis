{
 "cells": [
  {
   "cell_type": "markdown",
   "id": "5588b4a6",
   "metadata": {},
   "source": [
    "### Steps\n",
    "#### 1- Import necessary libraries.\n",
    "#### 2- Read the dataset using Pandas.\n",
    "#### 3- Explore, assess, and clean the data.\n",
    "#### 4- Visualize the relationship between different variables and draw insights."
   ]
  },
  {
   "cell_type": "markdown",
   "id": "3d722ff1",
   "metadata": {},
   "source": [
    "#### 1- Import necessary libraries"
   ]
  },
  {
   "cell_type": "code",
   "execution_count": 1,
   "id": "b3a07735",
   "metadata": {},
   "outputs": [],
   "source": [
    "#To read the dataset\n",
    "import pandas as pd \n",
    "\n",
    "#To display all columns and rows\n",
    "pd.get_option(\"display.max_columns\")\n",
    "pd.set_option('display.max_rows', None)\n",
    "\n",
    "#To hide warning messages\n",
    "import warnings\n",
    "warnings.filterwarnings('ignore')\n",
    "\n",
    "\n",
    "#For visualization in Jupyter Notebook\n",
    "import matplotlib.pyplot as plt"
   ]
  },
  {
   "cell_type": "markdown",
   "id": "ce093e06",
   "metadata": {},
   "source": [
    "#### 2- Read the dataset using Pandas"
   ]
  },
  {
   "cell_type": "code",
   "execution_count": 2,
   "id": "f37b42d7",
   "metadata": {},
   "outputs": [
    {
     "data": {
      "text/html": [
       "<div>\n",
       "<style scoped>\n",
       "    .dataframe tbody tr th:only-of-type {\n",
       "        vertical-align: middle;\n",
       "    }\n",
       "\n",
       "    .dataframe tbody tr th {\n",
       "        vertical-align: top;\n",
       "    }\n",
       "\n",
       "    .dataframe thead th {\n",
       "        text-align: right;\n",
       "    }\n",
       "</style>\n",
       "<table border=\"1\" class=\"dataframe\">\n",
       "  <thead>\n",
       "    <tr style=\"text-align: right;\">\n",
       "      <th></th>\n",
       "      <th>Unnamed: 0</th>\n",
       "      <th>Brand</th>\n",
       "      <th>Model</th>\n",
       "      <th>Series</th>\n",
       "      <th>Processor</th>\n",
       "      <th>Processor_Gen</th>\n",
       "      <th>RAM</th>\n",
       "      <th>Hard_Disk_Capacity</th>\n",
       "      <th>OS</th>\n",
       "      <th>Rating</th>\n",
       "      <th>Price</th>\n",
       "    </tr>\n",
       "  </thead>\n",
       "  <tbody>\n",
       "    <tr>\n",
       "      <th>0</th>\n",
       "      <td>0</td>\n",
       "      <td>DELL</td>\n",
       "      <td>Inspiron</td>\n",
       "      <td>NaN</td>\n",
       "      <td>i3</td>\n",
       "      <td>11th</td>\n",
       "      <td>8.0</td>\n",
       "      <td>1 TB HDD</td>\n",
       "      <td>Windows 11 Home</td>\n",
       "      <td>3.7</td>\n",
       "      <td>39040</td>\n",
       "    </tr>\n",
       "    <tr>\n",
       "      <th>1</th>\n",
       "      <td>1</td>\n",
       "      <td>DELL</td>\n",
       "      <td>Vostro</td>\n",
       "      <td>NaN</td>\n",
       "      <td>i5</td>\n",
       "      <td>11th</td>\n",
       "      <td>8.0</td>\n",
       "      <td>1 TB HDD</td>\n",
       "      <td>Windows 10 Home</td>\n",
       "      <td>3.6</td>\n",
       "      <td>50840</td>\n",
       "    </tr>\n",
       "    <tr>\n",
       "      <th>2</th>\n",
       "      <td>2</td>\n",
       "      <td>ASUS</td>\n",
       "      <td>VivoBook</td>\n",
       "      <td>15</td>\n",
       "      <td>i3</td>\n",
       "      <td>10th</td>\n",
       "      <td>8.0</td>\n",
       "      <td>512 GB SSD</td>\n",
       "      <td>Windows 11 Home</td>\n",
       "      <td>4.3</td>\n",
       "      <td>37940</td>\n",
       "    </tr>\n",
       "    <tr>\n",
       "      <th>3</th>\n",
       "      <td>3</td>\n",
       "      <td>DELL</td>\n",
       "      <td>Inspiron</td>\n",
       "      <td>NaN</td>\n",
       "      <td>i3</td>\n",
       "      <td>11th</td>\n",
       "      <td>8.0</td>\n",
       "      <td>1 TB HDD</td>\n",
       "      <td>256 GB SSD</td>\n",
       "      <td>4.4</td>\n",
       "      <td>44440</td>\n",
       "    </tr>\n",
       "    <tr>\n",
       "      <th>4</th>\n",
       "      <td>4</td>\n",
       "      <td>ASUS</td>\n",
       "      <td>TUF</td>\n",
       "      <td>Gaming</td>\n",
       "      <td>i5</td>\n",
       "      <td>10th</td>\n",
       "      <td>8.0</td>\n",
       "      <td>512 GB SSD</td>\n",
       "      <td>Windows 10 Home</td>\n",
       "      <td>4.5</td>\n",
       "      <td>57940</td>\n",
       "    </tr>\n",
       "  </tbody>\n",
       "</table>\n",
       "</div>"
      ],
      "text/plain": [
       "   Unnamed: 0 Brand     Model  Series Processor Processor_Gen  RAM  \\\n",
       "0           0  DELL  Inspiron     NaN        i3          11th  8.0   \n",
       "1           1  DELL    Vostro     NaN        i5          11th  8.0   \n",
       "2           2  ASUS  VivoBook      15        i3          10th  8.0   \n",
       "3           3  DELL  Inspiron     NaN        i3          11th  8.0   \n",
       "4           4  ASUS       TUF  Gaming        i5          10th  8.0   \n",
       "\n",
       "  Hard_Disk_Capacity               OS  Rating  Price  \n",
       "0           1 TB HDD  Windows 11 Home     3.7  39040  \n",
       "1           1 TB HDD  Windows 10 Home     3.6  50840  \n",
       "2         512 GB SSD  Windows 11 Home     4.3  37940  \n",
       "3           1 TB HDD       256 GB SSD     4.4  44440  \n",
       "4         512 GB SSD  Windows 10 Home     4.5  57940  "
      ]
     },
     "execution_count": 2,
     "metadata": {},
     "output_type": "execute_result"
    }
   ],
   "source": [
    "#Let's call the dataset \"laptop_df\" and display the first 5 records from it.\n",
    "laptop_df= pd.read_csv('laptop.csv')\n",
    "laptop_df.head(5)"
   ]
  },
  {
   "cell_type": "code",
   "execution_count": 3,
   "id": "8cdaa981",
   "metadata": {},
   "outputs": [
    {
     "data": {
      "text/html": [
       "<div>\n",
       "<style scoped>\n",
       "    .dataframe tbody tr th:only-of-type {\n",
       "        vertical-align: middle;\n",
       "    }\n",
       "\n",
       "    .dataframe tbody tr th {\n",
       "        vertical-align: top;\n",
       "    }\n",
       "\n",
       "    .dataframe thead th {\n",
       "        text-align: right;\n",
       "    }\n",
       "</style>\n",
       "<table border=\"1\" class=\"dataframe\">\n",
       "  <thead>\n",
       "    <tr style=\"text-align: right;\">\n",
       "      <th></th>\n",
       "      <th>Unnamed: 0</th>\n",
       "      <th>Brand</th>\n",
       "      <th>Model</th>\n",
       "      <th>Series</th>\n",
       "      <th>Processor</th>\n",
       "      <th>Processor_Gen</th>\n",
       "      <th>RAM</th>\n",
       "      <th>Hard_Disk_Capacity</th>\n",
       "      <th>OS</th>\n",
       "      <th>Rating</th>\n",
       "      <th>Price</th>\n",
       "    </tr>\n",
       "  </thead>\n",
       "  <tbody>\n",
       "    <tr>\n",
       "      <th>125</th>\n",
       "      <td>125</td>\n",
       "      <td>DELL</td>\n",
       "      <td>Inspiron</td>\n",
       "      <td>NaN</td>\n",
       "      <td>i3</td>\n",
       "      <td>11th</td>\n",
       "      <td>8.0</td>\n",
       "      <td>1 TB HDD</td>\n",
       "      <td>Windows 11 Home</td>\n",
       "      <td>3.7</td>\n",
       "      <td>39040</td>\n",
       "    </tr>\n",
       "    <tr>\n",
       "      <th>126</th>\n",
       "      <td>126</td>\n",
       "      <td>HP</td>\n",
       "      <td>15q</td>\n",
       "      <td>NaN</td>\n",
       "      <td>i3</td>\n",
       "      <td>7th</td>\n",
       "      <td>4.0</td>\n",
       "      <td>1 TB HDD</td>\n",
       "      <td>DOS</td>\n",
       "      <td>4.2</td>\n",
       "      <td>32905</td>\n",
       "    </tr>\n",
       "    <tr>\n",
       "      <th>127</th>\n",
       "      <td>127</td>\n",
       "      <td>Lenovo</td>\n",
       "      <td>v15</td>\n",
       "      <td>NaN</td>\n",
       "      <td>i3</td>\n",
       "      <td>10th</td>\n",
       "      <td>4.0</td>\n",
       "      <td>1 TB HDD</td>\n",
       "      <td>DOS</td>\n",
       "      <td>3.1</td>\n",
       "      <td>39949</td>\n",
       "    </tr>\n",
       "    <tr>\n",
       "      <th>128</th>\n",
       "      <td>128</td>\n",
       "      <td>ASUS</td>\n",
       "      <td>Vivobook</td>\n",
       "      <td>15</td>\n",
       "      <td>i3</td>\n",
       "      <td>11th</td>\n",
       "      <td>8.0</td>\n",
       "      <td>1 TB HDD</td>\n",
       "      <td>Windows 10 Home</td>\n",
       "      <td>2.9</td>\n",
       "      <td>42750</td>\n",
       "    </tr>\n",
       "    <tr>\n",
       "      <th>129</th>\n",
       "      <td>129</td>\n",
       "      <td>Lenovo</td>\n",
       "      <td>IdeaPad</td>\n",
       "      <td>3</td>\n",
       "      <td>i3</td>\n",
       "      <td>11th</td>\n",
       "      <td>8.0</td>\n",
       "      <td>256 GB SSD</td>\n",
       "      <td>Windows 11 Home</td>\n",
       "      <td>4.3</td>\n",
       "      <td>39940</td>\n",
       "    </tr>\n",
       "  </tbody>\n",
       "</table>\n",
       "</div>"
      ],
      "text/plain": [
       "     Unnamed: 0   Brand     Model Series Processor Processor_Gen  RAM  \\\n",
       "125         125    DELL  Inspiron    NaN        i3          11th  8.0   \n",
       "126         126      HP       15q    NaN        i3           7th  4.0   \n",
       "127         127  Lenovo       v15    NaN        i3          10th  4.0   \n",
       "128         128    ASUS  Vivobook     15        i3          11th  8.0   \n",
       "129         129  Lenovo   IdeaPad      3        i3          11th  8.0   \n",
       "\n",
       "    Hard_Disk_Capacity               OS  Rating  Price  \n",
       "125           1 TB HDD  Windows 11 Home     3.7  39040  \n",
       "126           1 TB HDD              DOS     4.2  32905  \n",
       "127           1 TB HDD              DOS     3.1  39949  \n",
       "128           1 TB HDD  Windows 10 Home     2.9  42750  \n",
       "129         256 GB SSD  Windows 11 Home     4.3  39940  "
      ]
     },
     "execution_count": 3,
     "metadata": {},
     "output_type": "execute_result"
    }
   ],
   "source": [
    "#Display the last 5 records\n",
    "laptop_df.tail(5)"
   ]
  },
  {
   "cell_type": "markdown",
   "id": "fe44e1b3",
   "metadata": {},
   "source": [
    "#### 3- Explore, assess, and clean the data."
   ]
  },
  {
   "cell_type": "markdown",
   "id": "9cf1ad37",
   "metadata": {},
   "source": [
    "#### I- Explore the data"
   ]
  },
  {
   "cell_type": "code",
   "execution_count": 4,
   "id": "f55a387a",
   "metadata": {},
   "outputs": [
    {
     "data": {
      "text/plain": [
       "(130, 11)"
      ]
     },
     "execution_count": 4,
     "metadata": {},
     "output_type": "execute_result"
    }
   ],
   "source": [
    "# Use the \"shape\" function to display the number of rows and columns in our dataset.\n",
    "laptop_df.shape"
   ]
  },
  {
   "cell_type": "markdown",
   "id": "4a328328",
   "metadata": {},
   "source": [
    "#### The dataset has 130 records and 11 columns representing 11 different features."
   ]
  },
  {
   "cell_type": "code",
   "execution_count": 5,
   "id": "ecc022a6",
   "metadata": {
    "scrolled": true
   },
   "outputs": [
    {
     "name": "stdout",
     "output_type": "stream",
     "text": [
      "<class 'pandas.core.frame.DataFrame'>\n",
      "RangeIndex: 130 entries, 0 to 129\n",
      "Data columns (total 11 columns):\n",
      " #   Column              Non-Null Count  Dtype  \n",
      "---  ------              --------------  -----  \n",
      " 0   Unnamed: 0          130 non-null    int64  \n",
      " 1   Brand               130 non-null    object \n",
      " 2   Model               116 non-null    object \n",
      " 3   Series              80 non-null     object \n",
      " 4   Processor           123 non-null    object \n",
      " 5   Processor_Gen       123 non-null    object \n",
      " 6   RAM                 122 non-null    float64\n",
      " 7   Hard_Disk_Capacity  122 non-null    object \n",
      " 8   OS                  122 non-null    object \n",
      " 9   Rating              130 non-null    float64\n",
      " 10  Price               130 non-null    int64  \n",
      "dtypes: float64(2), int64(2), object(7)\n",
      "memory usage: 11.3+ KB\n"
     ]
    }
   ],
   "source": [
    "#The \"info\" method prints different properties of the dataset including:columns names, number of columns, data type of each column...etc\n",
    "laptop_df.info()"
   ]
  },
  {
   "cell_type": "markdown",
   "id": "4276ead0",
   "metadata": {},
   "source": [
    "#### The above results show the following:\n",
    "#### - There are 10 different laptop features distributed across 130 records in the dataset.\n",
    "#### - Values in RAM & Operating system are float (decimal numbers), Price values are in integer form, and the other features are in string format which is referred to as \"object\"."
   ]
  },
  {
   "cell_type": "code",
   "execution_count": 6,
   "id": "cd5af6ab",
   "metadata": {},
   "outputs": [
    {
     "data": {
      "text/html": [
       "<div>\n",
       "<style scoped>\n",
       "    .dataframe tbody tr th:only-of-type {\n",
       "        vertical-align: middle;\n",
       "    }\n",
       "\n",
       "    .dataframe tbody tr th {\n",
       "        vertical-align: top;\n",
       "    }\n",
       "\n",
       "    .dataframe thead th {\n",
       "        text-align: right;\n",
       "    }\n",
       "</style>\n",
       "<table border=\"1\" class=\"dataframe\">\n",
       "  <thead>\n",
       "    <tr style=\"text-align: right;\">\n",
       "      <th></th>\n",
       "      <th>Brand</th>\n",
       "      <th>Model</th>\n",
       "      <th>Series</th>\n",
       "      <th>Processor</th>\n",
       "      <th>Processor_Gen</th>\n",
       "      <th>RAM</th>\n",
       "      <th>Hard_Disk_Capacity</th>\n",
       "      <th>OS</th>\n",
       "      <th>Rating</th>\n",
       "    </tr>\n",
       "  </thead>\n",
       "  <tbody>\n",
       "    <tr>\n",
       "      <th>count</th>\n",
       "      <td>130</td>\n",
       "      <td>116</td>\n",
       "      <td>80</td>\n",
       "      <td>123</td>\n",
       "      <td>123</td>\n",
       "      <td>122.000000</td>\n",
       "      <td>122</td>\n",
       "      <td>122</td>\n",
       "      <td>130.000000</td>\n",
       "    </tr>\n",
       "    <tr>\n",
       "      <th>unique</th>\n",
       "      <td>9</td>\n",
       "      <td>33</td>\n",
       "      <td>28</td>\n",
       "      <td>17</td>\n",
       "      <td>10</td>\n",
       "      <td>NaN</td>\n",
       "      <td>7</td>\n",
       "      <td>7</td>\n",
       "      <td>NaN</td>\n",
       "    </tr>\n",
       "    <tr>\n",
       "      <th>top</th>\n",
       "      <td>DELL</td>\n",
       "      <td>Inspiron</td>\n",
       "      <td>3</td>\n",
       "      <td>i3</td>\n",
       "      <td>11th</td>\n",
       "      <td>NaN</td>\n",
       "      <td>512 GB SSD</td>\n",
       "      <td>Windows 10 Home</td>\n",
       "      <td>NaN</td>\n",
       "    </tr>\n",
       "    <tr>\n",
       "      <th>freq</th>\n",
       "      <td>40</td>\n",
       "      <td>26</td>\n",
       "      <td>17</td>\n",
       "      <td>58</td>\n",
       "      <td>69</td>\n",
       "      <td>NaN</td>\n",
       "      <td>50</td>\n",
       "      <td>46</td>\n",
       "      <td>NaN</td>\n",
       "    </tr>\n",
       "    <tr>\n",
       "      <th>mean</th>\n",
       "      <td>NaN</td>\n",
       "      <td>NaN</td>\n",
       "      <td>NaN</td>\n",
       "      <td>NaN</td>\n",
       "      <td>NaN</td>\n",
       "      <td>8.622951</td>\n",
       "      <td>NaN</td>\n",
       "      <td>NaN</td>\n",
       "      <td>4.185385</td>\n",
       "    </tr>\n",
       "    <tr>\n",
       "      <th>std</th>\n",
       "      <td>NaN</td>\n",
       "      <td>NaN</td>\n",
       "      <td>NaN</td>\n",
       "      <td>NaN</td>\n",
       "      <td>NaN</td>\n",
       "      <td>3.253296</td>\n",
       "      <td>NaN</td>\n",
       "      <td>NaN</td>\n",
       "      <td>0.364960</td>\n",
       "    </tr>\n",
       "    <tr>\n",
       "      <th>min</th>\n",
       "      <td>NaN</td>\n",
       "      <td>NaN</td>\n",
       "      <td>NaN</td>\n",
       "      <td>NaN</td>\n",
       "      <td>NaN</td>\n",
       "      <td>4.000000</td>\n",
       "      <td>NaN</td>\n",
       "      <td>NaN</td>\n",
       "      <td>2.900000</td>\n",
       "    </tr>\n",
       "    <tr>\n",
       "      <th>25%</th>\n",
       "      <td>NaN</td>\n",
       "      <td>NaN</td>\n",
       "      <td>NaN</td>\n",
       "      <td>NaN</td>\n",
       "      <td>NaN</td>\n",
       "      <td>8.000000</td>\n",
       "      <td>NaN</td>\n",
       "      <td>NaN</td>\n",
       "      <td>4.100000</td>\n",
       "    </tr>\n",
       "    <tr>\n",
       "      <th>50%</th>\n",
       "      <td>NaN</td>\n",
       "      <td>NaN</td>\n",
       "      <td>NaN</td>\n",
       "      <td>NaN</td>\n",
       "      <td>NaN</td>\n",
       "      <td>8.000000</td>\n",
       "      <td>NaN</td>\n",
       "      <td>NaN</td>\n",
       "      <td>4.300000</td>\n",
       "    </tr>\n",
       "    <tr>\n",
       "      <th>75%</th>\n",
       "      <td>NaN</td>\n",
       "      <td>NaN</td>\n",
       "      <td>NaN</td>\n",
       "      <td>NaN</td>\n",
       "      <td>NaN</td>\n",
       "      <td>8.000000</td>\n",
       "      <td>NaN</td>\n",
       "      <td>NaN</td>\n",
       "      <td>4.400000</td>\n",
       "    </tr>\n",
       "    <tr>\n",
       "      <th>max</th>\n",
       "      <td>NaN</td>\n",
       "      <td>NaN</td>\n",
       "      <td>NaN</td>\n",
       "      <td>NaN</td>\n",
       "      <td>NaN</td>\n",
       "      <td>16.000000</td>\n",
       "      <td>NaN</td>\n",
       "      <td>NaN</td>\n",
       "      <td>4.800000</td>\n",
       "    </tr>\n",
       "  </tbody>\n",
       "</table>\n",
       "</div>"
      ],
      "text/plain": [
       "       Brand     Model Series Processor Processor_Gen         RAM  \\\n",
       "count    130       116     80       123           123  122.000000   \n",
       "unique     9        33     28        17            10         NaN   \n",
       "top     DELL  Inspiron      3        i3          11th         NaN   \n",
       "freq      40        26     17        58            69         NaN   \n",
       "mean     NaN       NaN    NaN       NaN           NaN    8.622951   \n",
       "std      NaN       NaN    NaN       NaN           NaN    3.253296   \n",
       "min      NaN       NaN    NaN       NaN           NaN    4.000000   \n",
       "25%      NaN       NaN    NaN       NaN           NaN    8.000000   \n",
       "50%      NaN       NaN    NaN       NaN           NaN    8.000000   \n",
       "75%      NaN       NaN    NaN       NaN           NaN    8.000000   \n",
       "max      NaN       NaN    NaN       NaN           NaN   16.000000   \n",
       "\n",
       "       Hard_Disk_Capacity               OS      Rating  \n",
       "count                 122              122  130.000000  \n",
       "unique                  7                7         NaN  \n",
       "top            512 GB SSD  Windows 10 Home         NaN  \n",
       "freq                   50               46         NaN  \n",
       "mean                  NaN              NaN    4.185385  \n",
       "std                   NaN              NaN    0.364960  \n",
       "min                   NaN              NaN    2.900000  \n",
       "25%                   NaN              NaN    4.100000  \n",
       "50%                   NaN              NaN    4.300000  \n",
       "75%                   NaN              NaN    4.400000  \n",
       "max                   NaN              NaN    4.800000  "
      ]
     },
     "execution_count": 6,
     "metadata": {},
     "output_type": "execute_result"
    }
   ],
   "source": [
    "#The describe function shows us the statistical properties of our dataset.\n",
    "laptop_df.describe(include= ['float','object','int'])"
   ]
  },
  {
   "cell_type": "markdown",
   "id": "c1a783f4",
   "metadata": {},
   "source": [
    "#### - The count refers to the number (count) of records.\n",
    "#### - Unique is the number of unique values in each column.\n",
    "#### - Top is the most common value in each column.\n",
    "#### - Freq is the frequency of the most common value (frequency of top).\n",
    "#### - Mean is the average of all values in columns with int or float data type.\n",
    "#### - std is the standard deviation which is a measure of spread that represents the degree to which the values are spread. The higher the number, the more spread the values are.\n",
    "#### - Min is the minimum value in each column.\n",
    "#### - Max is the maximum value in each column.\n",
    "#### - 25% is the 25% percentile and it is the value under which 25% of the data points exist.\n",
    "#### - 50% is the 50% percentile also known as the (median) under which 50% of the data points exist.\n",
    "#### - 75% is the 75% percentile under which 75% of the data points exist. "
   ]
  },
  {
   "cell_type": "code",
   "execution_count": 7,
   "id": "880363a8",
   "metadata": {
    "scrolled": true
   },
   "outputs": [
    {
     "data": {
      "text/html": [
       "<div>\n",
       "<style scoped>\n",
       "    .dataframe tbody tr th:only-of-type {\n",
       "        vertical-align: middle;\n",
       "    }\n",
       "\n",
       "    .dataframe tbody tr th {\n",
       "        vertical-align: top;\n",
       "    }\n",
       "\n",
       "    .dataframe thead th {\n",
       "        text-align: right;\n",
       "    }\n",
       "</style>\n",
       "<table border=\"1\" class=\"dataframe\">\n",
       "  <thead>\n",
       "    <tr style=\"text-align: right;\">\n",
       "      <th></th>\n",
       "      <th>Unnamed: 0</th>\n",
       "      <th>RAM</th>\n",
       "      <th>Rating</th>\n",
       "      <th>Price</th>\n",
       "    </tr>\n",
       "  </thead>\n",
       "  <tbody>\n",
       "    <tr>\n",
       "      <th>Unnamed: 0</th>\n",
       "      <td>1.000000</td>\n",
       "      <td>0.000611</td>\n",
       "      <td>-0.247042</td>\n",
       "      <td>0.169254</td>\n",
       "    </tr>\n",
       "    <tr>\n",
       "      <th>RAM</th>\n",
       "      <td>0.000611</td>\n",
       "      <td>1.000000</td>\n",
       "      <td>0.240383</td>\n",
       "      <td>0.685747</td>\n",
       "    </tr>\n",
       "    <tr>\n",
       "      <th>Rating</th>\n",
       "      <td>-0.247042</td>\n",
       "      <td>0.240383</td>\n",
       "      <td>1.000000</td>\n",
       "      <td>0.442159</td>\n",
       "    </tr>\n",
       "    <tr>\n",
       "      <th>Price</th>\n",
       "      <td>0.169254</td>\n",
       "      <td>0.685747</td>\n",
       "      <td>0.442159</td>\n",
       "      <td>1.000000</td>\n",
       "    </tr>\n",
       "  </tbody>\n",
       "</table>\n",
       "</div>"
      ],
      "text/plain": [
       "            Unnamed: 0       RAM    Rating     Price\n",
       "Unnamed: 0    1.000000  0.000611 -0.247042  0.169254\n",
       "RAM           0.000611  1.000000  0.240383  0.685747\n",
       "Rating       -0.247042  0.240383  1.000000  0.442159\n",
       "Price         0.169254  0.685747  0.442159  1.000000"
      ]
     },
     "execution_count": 7,
     "metadata": {},
     "output_type": "execute_result"
    }
   ],
   "source": [
    "#The correlation function is used to find the correlation between different features.\n",
    "laptop_df.corr()"
   ]
  },
  {
   "cell_type": "markdown",
   "id": "82cf963e",
   "metadata": {},
   "source": [
    "#### The closer to one, the higher the correlation. From the above results, we can notice that the RAM and price are positively correlated (0.68), meaning that the higher the RAM, the higher the price which actually makes sense because higher RAMs are associated with higher performance. On the other hand, RAM and rating are weakly correlated (0.24) which signifies correlation but a weak one. "
   ]
  },
  {
   "cell_type": "code",
   "execution_count": 8,
   "id": "5f1718b0",
   "metadata": {
    "scrolled": false
   },
   "outputs": [
    {
     "data": {
      "text/plain": [
       "DELL         40\n",
       "ASUS         29\n",
       "Lenovo       28\n",
       "HP           17\n",
       "APPLE         7\n",
       "acer          4\n",
       "MSI           3\n",
       "realme        1\n",
       "MICROSOFT     1\n",
       "Name: Brand, dtype: int64"
      ]
     },
     "execution_count": 8,
     "metadata": {},
     "output_type": "execute_result"
    }
   ],
   "source": [
    "#Here, the value_counts() method displays the count of each distinct value in every column.\n",
    "laptop_df.Brand.value_counts()"
   ]
  },
  {
   "cell_type": "code",
   "execution_count": 9,
   "id": "af65f85a",
   "metadata": {},
   "outputs": [
    {
     "data": {
      "text/plain": [
       "Inspiron      26\n",
       "IdeaPad       15\n",
       "VivoBook      11\n",
       "Vostro        10\n",
       "Vivobook       6\n",
       "Ideapad        6\n",
       "Ryzen          5\n",
       "2020           4\n",
       "Pavilion       3\n",
       "MacBook        3\n",
       "HP             2\n",
       "ROG            2\n",
       "Chromebook     2\n",
       "TUF            2\n",
       "ZenBook        1\n",
       "ASUS           1\n",
       "Book           1\n",
       "Notebook       1\n",
       "Katana         1\n",
       "15q            1\n",
       "Surface        1\n",
       "GF63           1\n",
       "3000           1\n",
       "Thinkpad       1\n",
       "250-G6         1\n",
       "Nitro          1\n",
       "APU            1\n",
       "Aspire         1\n",
       "v15            1\n",
       "IDEAPAD        1\n",
       "Swift          1\n",
       "Travelmate     1\n",
       "Envy           1\n",
       "Name: Model, dtype: int64"
      ]
     },
     "execution_count": 9,
     "metadata": {},
     "output_type": "execute_result"
    }
   ],
   "source": [
    "laptop_df.Model.value_counts()"
   ]
  },
  {
   "cell_type": "code",
   "execution_count": 10,
   "id": "43e43a42",
   "metadata": {},
   "outputs": [
    {
     "data": {
      "text/plain": [
       "3           17\n",
       "15           8\n",
       "Gaming       7\n",
       "Ryzen        7\n",
       "Macbook      4\n",
       "14           4\n",
       "Slim         4\n",
       "5            3\n",
       "Air          3\n",
       "K15          3\n",
       "Celeron      2\n",
       "Pavilion     2\n",
       "Zephyrus     1\n",
       "7            1\n",
       "Ultra        1\n",
       "Laptop       1\n",
       "530s         1\n",
       "(Slim)       1\n",
       "Strix        1\n",
       "Dual         1\n",
       "Duo          1\n",
       "Flex         1\n",
       "TUF          1\n",
       "PC           1\n",
       "Thin         1\n",
       "3405         1\n",
       "GF66         1\n",
       "Athlon       1\n",
       "Name: Series, dtype: int64"
      ]
     },
     "execution_count": 10,
     "metadata": {},
     "output_type": "execute_result"
    }
   ],
   "source": [
    "laptop_df.Series.value_counts()"
   ]
  },
  {
   "cell_type": "code",
   "execution_count": 11,
   "id": "d4032a76",
   "metadata": {},
   "outputs": [
    {
     "data": {
      "text/plain": [
       "i3          58\n",
       "i5          36\n",
       "-            5\n",
       "i7           4\n",
       "5600H        3\n",
       "3250U        3\n",
       "3450U        3\n",
       "5500U        2\n",
       "4600H        1\n",
       "4800H        1\n",
       "A9           1\n",
       "4800HS       1\n",
       "3050U        1\n",
       "5300U        1\n",
       "AMD          1\n",
       "R3-3250U     1\n",
       "5600U        1\n",
       "Name: Processor, dtype: int64"
      ]
     },
     "execution_count": 11,
     "metadata": {},
     "output_type": "execute_result"
    }
   ],
   "source": [
    "laptop_df.Processor.value_counts()"
   ]
  },
  {
   "cell_type": "code",
   "execution_count": 12,
   "id": "63a036ea",
   "metadata": {},
   "outputs": [
    {
     "data": {
      "text/plain": [
       "11th      69\n",
       "10th      24\n",
       "-         17\n",
       "8th        3\n",
       "(4         3\n",
       "7th        2\n",
       "(8         2\n",
       "Ryzen™     1\n",
       "A99425     1\n",
       "3rd        1\n",
       "Name: Processor_Gen, dtype: int64"
      ]
     },
     "execution_count": 12,
     "metadata": {},
     "output_type": "execute_result"
    }
   ],
   "source": [
    "laptop_df.Processor_Gen.value_counts()"
   ]
  },
  {
   "cell_type": "code",
   "execution_count": 13,
   "id": "f0d11758",
   "metadata": {},
   "outputs": [
    {
     "data": {
      "text/plain": [
       "8.0     90\n",
       "16.0    17\n",
       "4.0     15\n",
       "Name: RAM, dtype: int64"
      ]
     },
     "execution_count": 13,
     "metadata": {},
     "output_type": "execute_result"
    }
   ],
   "source": [
    "laptop_df.RAM.value_counts()"
   ]
  },
  {
   "cell_type": "code",
   "execution_count": 14,
   "id": "04d5ddb7",
   "metadata": {},
   "outputs": [
    {
     "data": {
      "text/plain": [
       "512 GB SSD            50\n",
       "1 TB HDD              43\n",
       "256 GB SSD            25\n",
       "64 GB EMMC Storage     1\n",
       "1 TB SSD               1\n",
       "128 GB SSD             1\n",
       "32 GB EMMC Storage     1\n",
       "Name: Hard_Disk_Capacity, dtype: int64"
      ]
     },
     "execution_count": 14,
     "metadata": {},
     "output_type": "execute_result"
    }
   ],
   "source": [
    "laptop_df.Hard_Disk_Capacity.value_counts()"
   ]
  },
  {
   "cell_type": "code",
   "execution_count": 15,
   "id": "ad42500a",
   "metadata": {},
   "outputs": [
    {
     "data": {
      "text/plain": [
       "Windows 10 Home    46\n",
       "Windows 11 Home    44\n",
       "256 GB SSD         14\n",
       "Windows 10         10\n",
       "DOS                 5\n",
       "Chrome OS           2\n",
       "128 GB SSD          1\n",
       "Name: OS, dtype: int64"
      ]
     },
     "execution_count": 15,
     "metadata": {},
     "output_type": "execute_result"
    }
   ],
   "source": [
    "laptop_df.OS.value_counts()"
   ]
  },
  {
   "cell_type": "markdown",
   "id": "f043fe44",
   "metadata": {},
   "source": [
    "#### We notice here that there are 14 laptops have \"256 GB SSD \" OS and 1 laptop with \"128 GB SSD\" OS and both are invalid Operating Systems. \n",
    "#### So, in the cleaning step, we'll replace those values with 'Windows 10 Home' since it's the most prevalent Operating System in our dataset (i.e. the mode)"
   ]
  },
  {
   "cell_type": "code",
   "execution_count": 16,
   "id": "b2dbb4e9",
   "metadata": {
    "scrolled": true
   },
   "outputs": [
    {
     "data": {
      "text/plain": [
       "39040     10\n",
       "40940      5\n",
       "59940      5\n",
       "39940      4\n",
       "50840      4\n",
       "49940      3\n",
       "36940      3\n",
       "72940      2\n",
       "46940      2\n",
       "71940      2\n",
       "35940      2\n",
       "56449      2\n",
       "55940      2\n",
       "75940      2\n",
       "69040      2\n",
       "62140      2\n",
       "129990     2\n",
       "52940      2\n",
       "37340      2\n",
       "65940      2\n",
       "57940      2\n",
       "34940      2\n",
       "38940      2\n",
       "119940     2\n",
       "44440      2\n",
       "37940      2\n",
       "48940      2\n",
       "43850      1\n",
       "74940      1\n",
       "39090      1\n",
       "45340      1\n",
       "45440      1\n",
       "23490      1\n",
       "31940      1\n",
       "60440      1\n",
       "42440      1\n",
       "59850      1\n",
       "61940      1\n",
       "37840      1\n",
       "89940      1\n",
       "105940     1\n",
       "41340      1\n",
       "98140      1\n",
       "59150      1\n",
       "41440      1\n",
       "45540      1\n",
       "17640      1\n",
       "39949      1\n",
       "41740      1\n",
       "32905      1\n",
       "42740      1\n",
       "46840      1\n",
       "50940      1\n",
       "32940      1\n",
       "43040      1\n",
       "59949      1\n",
       "46150      1\n",
       "42940      1\n",
       "114940     1\n",
       "21846      1\n",
       "49240      1\n",
       "66940      1\n",
       "41540      1\n",
       "57440      1\n",
       "48740      1\n",
       "37440      1\n",
       "88940      1\n",
       "110940     1\n",
       "56940      1\n",
       "62440      1\n",
       "43126      1\n",
       "70940      1\n",
       "63610      1\n",
       "84940      1\n",
       "64940      1\n",
       "42340      1\n",
       "91949      1\n",
       "34440      1\n",
       "42540      1\n",
       "76940      1\n",
       "33940      1\n",
       "67740      1\n",
       "42750      1\n",
       "Name: Price, dtype: int64"
      ]
     },
     "execution_count": 16,
     "metadata": {},
     "output_type": "execute_result"
    }
   ],
   "source": [
    "laptop_df.Price.value_counts()"
   ]
  },
  {
   "cell_type": "code",
   "execution_count": 17,
   "id": "1920e84a",
   "metadata": {},
   "outputs": [
    {
     "data": {
      "text/plain": [
       "4.3    26\n",
       "4.4    21\n",
       "4.2    18\n",
       "4.5    15\n",
       "3.7    15\n",
       "4.6     8\n",
       "4.1     6\n",
       "3.9     5\n",
       "3.6     5\n",
       "4.7     3\n",
       "2.9     2\n",
       "4.0     2\n",
       "3.1     1\n",
       "4.8     1\n",
       "3.2     1\n",
       "3.4     1\n",
       "Name: Rating, dtype: int64"
      ]
     },
     "execution_count": 17,
     "metadata": {},
     "output_type": "execute_result"
    }
   ],
   "source": [
    "laptop_df.Rating.value_counts()"
   ]
  },
  {
   "cell_type": "code",
   "execution_count": 18,
   "id": "f5802c34",
   "metadata": {
    "scrolled": true
   },
   "outputs": [
    {
     "data": {
      "text/plain": [
       "count    122.000000\n",
       "mean       8.622951\n",
       "std        3.253296\n",
       "min        4.000000\n",
       "25%        8.000000\n",
       "50%        8.000000\n",
       "75%        8.000000\n",
       "max       16.000000\n",
       "Name: RAM, dtype: float64"
      ]
     },
     "execution_count": 18,
     "metadata": {},
     "output_type": "execute_result"
    }
   ],
   "source": [
    "#We can also use the \"describe\" method to know the statistical summary of each individual column.\n",
    "\n",
    "laptop_df.RAM.describe()"
   ]
  },
  {
   "cell_type": "markdown",
   "id": "b1869163",
   "metadata": {},
   "source": [
    "#### - It appears that the dataset is missing RAMs values for 8 laptops since the count is 122 when it should've been 130.\n",
    "#### - The lowest RAM a laptop has in this dataset is 4GB, while the highest has 16 GB."
   ]
  },
  {
   "cell_type": "code",
   "execution_count": 19,
   "id": "a71cc99c",
   "metadata": {},
   "outputs": [
    {
     "data": {
      "text/plain": [
       "count       130.000000\n",
       "mean      53962.476923\n",
       "std       21369.679452\n",
       "min       17640.000000\n",
       "25%       39052.500000\n",
       "50%       46940.000000\n",
       "75%       61565.000000\n",
       "max      129990.000000\n",
       "Name: Price, dtype: float64"
      ]
     },
     "execution_count": 19,
     "metadata": {},
     "output_type": "execute_result"
    }
   ],
   "source": [
    "laptop_df.Price.describe()"
   ]
  },
  {
   "cell_type": "markdown",
   "id": "269b70d0",
   "metadata": {},
   "source": [
    "#### The mean (average) price for a laptop is 53962, the cheapest laptop costs 17640 while the most expensive one costs 129990."
   ]
  },
  {
   "cell_type": "code",
   "execution_count": 19,
   "id": "6556a206",
   "metadata": {
    "scrolled": true
   },
   "outputs": [
    {
     "data": {
      "text/plain": [
       "count    130.000000\n",
       "mean       4.185385\n",
       "std        0.364960\n",
       "min        2.900000\n",
       "25%        4.100000\n",
       "50%        4.300000\n",
       "75%        4.400000\n",
       "max        4.800000\n",
       "Name: Rating, dtype: float64"
      ]
     },
     "execution_count": 19,
     "metadata": {},
     "output_type": "execute_result"
    }
   ],
   "source": [
    "laptop_df.Rating.describe()"
   ]
  },
  {
   "cell_type": "markdown",
   "id": "d39040d9",
   "metadata": {},
   "source": [
    "#### The lowest rating a laptop has is 2.9, while the highest rating is 4.8"
   ]
  },
  {
   "cell_type": "markdown",
   "id": "76fe36b7",
   "metadata": {},
   "source": [
    "#### II- Assess the data\n",
    "In this step, we assess the data in terms of Quality and Tidiness.\n",
    "\n",
    "Quality dimensions or aspects are mainly:\n",
    "\n",
    "**1**- Completeness (checking if there are any missing records).\n",
    "\n",
    "**2**- Validity (Checking if the values displayed are 'valid' i.e data that follow certain known rules)\n",
    "\n",
    "**3**- Accuracy (a significant decrease or increase in a value is considered an 'inaccurate data')\n",
    "\n",
    "**4**- Consistency (There should be only one way to represent or refer to a value otherwise the data is called to be 'inconsistent')"
   ]
  },
  {
   "cell_type": "markdown",
   "id": "5fa56ff8",
   "metadata": {},
   "source": [
    "#### 1- Completeness "
   ]
  },
  {
   "cell_type": "code",
   "execution_count": 21,
   "id": "15052334",
   "metadata": {
    "scrolled": true
   },
   "outputs": [
    {
     "data": {
      "text/plain": [
       "Unnamed: 0             0\n",
       "Brand                  0\n",
       "Model                 14\n",
       "Series                50\n",
       "Processor              7\n",
       "Processor_Gen          7\n",
       "RAM                    8\n",
       "Hard_Disk_Capacity     8\n",
       "OS                     8\n",
       "Rating                 0\n",
       "Price                  0\n",
       "dtype: int64"
      ]
     },
     "execution_count": 21,
     "metadata": {},
     "output_type": "execute_result"
    }
   ],
   "source": [
    "laptop_df.isnull().sum()"
   ]
  },
  {
   "cell_type": "code",
   "execution_count": 22,
   "id": "7ca2e12f",
   "metadata": {},
   "outputs": [
    {
     "data": {
      "text/plain": [
       "102"
      ]
     },
     "execution_count": 22,
     "metadata": {},
     "output_type": "execute_result"
    }
   ],
   "source": [
    "laptop_df.isnull().sum().sum()"
   ]
  },
  {
   "cell_type": "markdown",
   "id": "f88637b3",
   "metadata": {},
   "source": [
    "#### It seems that there are 14 missing values in the 'Model' column, 50 missing values in the 'Series' column, 7 laptops don't have Processor or Processor Generation values, and there are 8 missing values in the 'RAM', 'Hard_Disk_Capacity', and 'OS' columns. So in total, there are 102 missing values in the dataset.\n",
    "\n",
    "#### Dealing with missing values requires 2 steps:\n",
    "    1- Determine the type of the missing value.\n",
    "    2- Decide, based on the type, whether to delete the entire record, or replace the missing values with other fixed values such as the mean, mode, or median."
   ]
  },
  {
   "cell_type": "markdown",
   "id": "da3ec7b3",
   "metadata": {},
   "source": [
    "#### Missing values are shown as NaN in datasets which is short for \"Not a Number\". And there're 3 types of missing values:\n",
    "     1- Missing at random \n",
    "     When there is a relation between the missing values and other variables in the dataset.\n",
    "     \n",
    "     2- Missing completely at random\n",
    "     When there is a problem with the data collection step such as human error or system failure.\n",
    "     \n",
    "     3- Missing not at random\n",
    "     When the missing value is neither missing at random nor missing completely at random."
   ]
  },
  {
   "cell_type": "markdown",
   "id": "cee86ccc",
   "metadata": {},
   "source": [
    "#### The missing values in this dataset seem to be missing completely at random, probably due to human error, then the  records with missing values can be completely removed if we intend to go further and build a Machine Learning model.\n",
    "\n",
    "### Remember:\n",
    "   #### You have to deal with missing values before training a model because NaN values affect the model's performance. But since we're just exploring and cleaning the data, it wouldn't be necessary to delete any records.\n",
    " "
   ]
  },
  {
   "cell_type": "markdown",
   "id": "bb0fe64a",
   "metadata": {},
   "source": [
    "#### 2- Validity\n",
    "#### Validity refers to the degree of data's consistency within a certian domain or industry. In order for the data to be valid, it should be stored correctly and in the right format. \n",
    "    *For example* : In our dataset, Random-access memory or RAM is estimated in Giga bytes which is a valid format. \n",
    "    If it is entered in another form, in Kg or cm for example, then we must correct it to be in its valid form.\n"
   ]
  },
  {
   "cell_type": "markdown",
   "id": "36a2551f",
   "metadata": {},
   "source": [
    "#### The easiest way to check data validity, is to display a few records from the dataset and inspect them visually to see if the different variables are stored in a correct format. Also we can use the 'info()' method to see if each column has the right data type.\n",
    "\n",
    "#### A simple way to do this, is to display random rows from our dataset:"
   ]
  },
  {
   "cell_type": "code",
   "execution_count": 23,
   "id": "d94461bb",
   "metadata": {},
   "outputs": [
    {
     "data": {
      "text/html": [
       "<div>\n",
       "<style scoped>\n",
       "    .dataframe tbody tr th:only-of-type {\n",
       "        vertical-align: middle;\n",
       "    }\n",
       "\n",
       "    .dataframe tbody tr th {\n",
       "        vertical-align: top;\n",
       "    }\n",
       "\n",
       "    .dataframe thead th {\n",
       "        text-align: right;\n",
       "    }\n",
       "</style>\n",
       "<table border=\"1\" class=\"dataframe\">\n",
       "  <thead>\n",
       "    <tr style=\"text-align: right;\">\n",
       "      <th></th>\n",
       "      <th>Unnamed: 0</th>\n",
       "      <th>Brand</th>\n",
       "      <th>Model</th>\n",
       "      <th>Series</th>\n",
       "      <th>Processor</th>\n",
       "      <th>Processor_Gen</th>\n",
       "      <th>RAM</th>\n",
       "      <th>Hard_Disk_Capacity</th>\n",
       "      <th>OS</th>\n",
       "      <th>Rating</th>\n",
       "      <th>Price</th>\n",
       "    </tr>\n",
       "  </thead>\n",
       "  <tbody>\n",
       "    <tr>\n",
       "      <th>44</th>\n",
       "      <td>44</td>\n",
       "      <td>DELL</td>\n",
       "      <td>Inspiron</td>\n",
       "      <td>Ryzen</td>\n",
       "      <td>3450U</td>\n",
       "      <td>-</td>\n",
       "      <td>8.0</td>\n",
       "      <td>512 GB SSD</td>\n",
       "      <td>Windows 11 Home</td>\n",
       "      <td>4.3</td>\n",
       "      <td>49940</td>\n",
       "    </tr>\n",
       "    <tr>\n",
       "      <th>4</th>\n",
       "      <td>4</td>\n",
       "      <td>ASUS</td>\n",
       "      <td>TUF</td>\n",
       "      <td>Gaming</td>\n",
       "      <td>i5</td>\n",
       "      <td>10th</td>\n",
       "      <td>8.0</td>\n",
       "      <td>512 GB SSD</td>\n",
       "      <td>Windows 10 Home</td>\n",
       "      <td>4.5</td>\n",
       "      <td>57940</td>\n",
       "    </tr>\n",
       "    <tr>\n",
       "      <th>110</th>\n",
       "      <td>110</td>\n",
       "      <td>ASUS</td>\n",
       "      <td>ZenBook</td>\n",
       "      <td>Duo</td>\n",
       "      <td>i5</td>\n",
       "      <td>11th</td>\n",
       "      <td>16.0</td>\n",
       "      <td>512 GB SSD</td>\n",
       "      <td>Windows 10 Home</td>\n",
       "      <td>4.4</td>\n",
       "      <td>114940</td>\n",
       "    </tr>\n",
       "    <tr>\n",
       "      <th>74</th>\n",
       "      <td>74</td>\n",
       "      <td>DELL</td>\n",
       "      <td>NaN</td>\n",
       "      <td>NaN</td>\n",
       "      <td>i7</td>\n",
       "      <td>11th</td>\n",
       "      <td>16.0</td>\n",
       "      <td>512 GB SSD</td>\n",
       "      <td>Windows 11 Home</td>\n",
       "      <td>4.4</td>\n",
       "      <td>88940</td>\n",
       "    </tr>\n",
       "    <tr>\n",
       "      <th>111</th>\n",
       "      <td>111</td>\n",
       "      <td>DELL</td>\n",
       "      <td>Inspiron</td>\n",
       "      <td>NaN</td>\n",
       "      <td>i3</td>\n",
       "      <td>11th</td>\n",
       "      <td>8.0</td>\n",
       "      <td>1 TB HDD</td>\n",
       "      <td>Windows 11 Home</td>\n",
       "      <td>3.7</td>\n",
       "      <td>39040</td>\n",
       "    </tr>\n",
       "    <tr>\n",
       "      <th>90</th>\n",
       "      <td>90</td>\n",
       "      <td>APPLE</td>\n",
       "      <td>2020</td>\n",
       "      <td>Macbook</td>\n",
       "      <td>NaN</td>\n",
       "      <td>NaN</td>\n",
       "      <td>NaN</td>\n",
       "      <td>NaN</td>\n",
       "      <td>NaN</td>\n",
       "      <td>4.6</td>\n",
       "      <td>129990</td>\n",
       "    </tr>\n",
       "    <tr>\n",
       "      <th>48</th>\n",
       "      <td>48</td>\n",
       "      <td>DELL</td>\n",
       "      <td>Inspiron</td>\n",
       "      <td>NaN</td>\n",
       "      <td>i3</td>\n",
       "      <td>11th</td>\n",
       "      <td>8.0</td>\n",
       "      <td>1 TB HDD</td>\n",
       "      <td>Windows 11 Home</td>\n",
       "      <td>3.7</td>\n",
       "      <td>39040</td>\n",
       "    </tr>\n",
       "    <tr>\n",
       "      <th>68</th>\n",
       "      <td>68</td>\n",
       "      <td>MSI</td>\n",
       "      <td>Katana</td>\n",
       "      <td>GF66</td>\n",
       "      <td>i5</td>\n",
       "      <td>11th</td>\n",
       "      <td>16.0</td>\n",
       "      <td>512 GB SSD</td>\n",
       "      <td>Windows 10 Home</td>\n",
       "      <td>4.4</td>\n",
       "      <td>76940</td>\n",
       "    </tr>\n",
       "    <tr>\n",
       "      <th>45</th>\n",
       "      <td>45</td>\n",
       "      <td>APPLE</td>\n",
       "      <td>2020</td>\n",
       "      <td>Macbook</td>\n",
       "      <td>NaN</td>\n",
       "      <td>NaN</td>\n",
       "      <td>NaN</td>\n",
       "      <td>NaN</td>\n",
       "      <td>NaN</td>\n",
       "      <td>4.7</td>\n",
       "      <td>84940</td>\n",
       "    </tr>\n",
       "    <tr>\n",
       "      <th>127</th>\n",
       "      <td>127</td>\n",
       "      <td>Lenovo</td>\n",
       "      <td>v15</td>\n",
       "      <td>NaN</td>\n",
       "      <td>i3</td>\n",
       "      <td>10th</td>\n",
       "      <td>4.0</td>\n",
       "      <td>1 TB HDD</td>\n",
       "      <td>DOS</td>\n",
       "      <td>3.1</td>\n",
       "      <td>39949</td>\n",
       "    </tr>\n",
       "  </tbody>\n",
       "</table>\n",
       "</div>"
      ],
      "text/plain": [
       "     Unnamed: 0   Brand     Model   Series Processor Processor_Gen   RAM  \\\n",
       "44           44    DELL  Inspiron    Ryzen     3450U             -   8.0   \n",
       "4             4    ASUS       TUF   Gaming        i5          10th   8.0   \n",
       "110         110    ASUS   ZenBook      Duo        i5          11th  16.0   \n",
       "74           74    DELL       NaN      NaN        i7          11th  16.0   \n",
       "111         111    DELL  Inspiron      NaN        i3          11th   8.0   \n",
       "90           90   APPLE      2020  Macbook       NaN           NaN   NaN   \n",
       "48           48    DELL  Inspiron      NaN        i3          11th   8.0   \n",
       "68           68     MSI    Katana     GF66        i5          11th  16.0   \n",
       "45           45   APPLE      2020  Macbook       NaN           NaN   NaN   \n",
       "127         127  Lenovo       v15      NaN        i3          10th   4.0   \n",
       "\n",
       "    Hard_Disk_Capacity               OS  Rating   Price  \n",
       "44          512 GB SSD  Windows 11 Home     4.3   49940  \n",
       "4           512 GB SSD  Windows 10 Home     4.5   57940  \n",
       "110         512 GB SSD  Windows 10 Home     4.4  114940  \n",
       "74          512 GB SSD  Windows 11 Home     4.4   88940  \n",
       "111           1 TB HDD  Windows 11 Home     3.7   39040  \n",
       "90                 NaN              NaN     4.6  129990  \n",
       "48            1 TB HDD  Windows 11 Home     3.7   39040  \n",
       "68          512 GB SSD  Windows 10 Home     4.4   76940  \n",
       "45                 NaN              NaN     4.7   84940  \n",
       "127           1 TB HDD              DOS     3.1   39949  "
      ]
     },
     "execution_count": 23,
     "metadata": {},
     "output_type": "execute_result"
    }
   ],
   "source": [
    "laptop_df.sample(n=10)"
   ]
  },
  {
   "cell_type": "markdown",
   "id": "f17ef559",
   "metadata": {},
   "source": [
    "#### You'll get a different set of records every time you run the previous line of code. Because each time it generates 10 different random rows and since our dataset is just a 130 rows, then running this code a couple of times will essentially inspect the whole dataset.\n",
    "\n",
    "#### By looking at the different columns, all the values seem to be valid."
   ]
  },
  {
   "cell_type": "code",
   "execution_count": null,
   "id": "feb7a8f3",
   "metadata": {},
   "outputs": [],
   "source": []
  },
  {
   "cell_type": "markdown",
   "id": "7f0ed66c",
   "metadata": {},
   "source": [
    "#### 3- Accuracy\n",
    "#### Data accuracy means that the data values are in a correct and consistent form. \n",
    "\n",
    "#### One way to make sure that you work with accurate data, is to collect data from reliable and trusted sources. Inaccurate data can cause serious problems if not handled prior to analysis, especially in sensitive sectors like healthcare, where a single inaccurate data point can cost lives.\n",
    "\n",
    "#### Again, by visually inspecting the records, it looks that the data is accurate in both form and content."
   ]
  },
  {
   "cell_type": "code",
   "execution_count": null,
   "id": "6e4ab4b4",
   "metadata": {},
   "outputs": [],
   "source": []
  },
  {
   "cell_type": "markdown",
   "id": "60e03527",
   "metadata": {},
   "source": [
    "#### 4- Consistency\n",
    "#### Data consistency means that data should be uniform and in a specific shape so that we avoid any errors when this data is transfered into a different system or used by another user, or even used for different purposes after a long time.\n",
    "\n",
    "#### For example, if there is a 'Gender' column in a dataset, we should have 2 standard forms for male and female. \n",
    "#### So it wouldn't be resoanable to express 'Female' once as 'female' and other times as 'F' or 'Woman'. As human beings, we definitely know that they all refer to the same thing, but this is not the case for a computer system! it will deal with the same value as if they're 3 different values.\n"
   ]
  },
  {
   "cell_type": "markdown",
   "id": "13e2d970",
   "metadata": {},
   "source": [
    "#### In this dataset, we have a couple of inconsistent values. \n",
    "#### In the Processor_Gen column, for example, the 8th generation is represented as 8) which is not consistent with the standard format of a processor generation. We'll handle this in the cleaning step."
   ]
  },
  {
   "cell_type": "code",
   "execution_count": null,
   "id": "7975dc4b",
   "metadata": {},
   "outputs": [],
   "source": []
  },
  {
   "cell_type": "markdown",
   "id": "a7b8a341",
   "metadata": {},
   "source": [
    "#### III- Clean the data"
   ]
  },
  {
   "cell_type": "markdown",
   "id": "74ec5640",
   "metadata": {},
   "source": [
    "#### The dataset is already structured and won't need much cleaning. But to keep it tidier we can do the following:\n",
    "\n",
    "     1- Remove the brackets from one 'slim' value in the \"Series\" column.\n",
    "     2- Remove white space from all columns.\n",
    "     3- Remove the left bracket from some values in the \"Processor_Gen\" column and add the suffix 'th' for consistency.\n",
    "     4- Convert 'Vivobook' in the \"Model\" column to 'VivoBook'.\n",
    "     5- Convert 'IDEAPAD' and 'Ideapad' in the \"Model\" column to 'IdeaPad'.\n",
    "     6- Replace the '256 GB SSD' and '128 GB SSD' values with the mode 'Windows 10 Home'.\n",
    "     7- Replace '4.' in the \"Rating\" column with '4.0'.\n",
    "     8- Delete the \"Un-named\" column from the dataset."
   ]
  },
  {
   "cell_type": "code",
   "execution_count": 24,
   "id": "0695658c",
   "metadata": {},
   "outputs": [
    {
     "data": {
      "text/plain": [
       "3           17\n",
       "15           8\n",
       "Ryzen        7\n",
       "Gaming       7\n",
       "Slim         5\n",
       "14           4\n",
       "Macbook      4\n",
       "5            3\n",
       "K15          3\n",
       "Air          3\n",
       "Celeron      2\n",
       "Pavilion     2\n",
       "Strix        1\n",
       "Duo          1\n",
       "3405         1\n",
       "Dual         1\n",
       "GF66         1\n",
       "Laptop       1\n",
       "7            1\n",
       "Thin         1\n",
       "Athlon       1\n",
       "530s         1\n",
       "PC           1\n",
       "Ultra        1\n",
       "Flex         1\n",
       "TUF          1\n",
       "Zephyrus     1\n",
       "Name: Series, dtype: int64"
      ]
     },
     "execution_count": 24,
     "metadata": {},
     "output_type": "execute_result"
    }
   ],
   "source": [
    "#1\n",
    "laptop_df['Series']= laptop_df['Series'].str.replace(\"(\", \"\")\n",
    "laptop_df['Series']= laptop_df['Series'].str.replace(\")\", \"\")\n",
    "laptop_df.Series.value_counts()"
   ]
  },
  {
   "cell_type": "code",
   "execution_count": 25,
   "id": "57d6dd44",
   "metadata": {},
   "outputs": [],
   "source": [
    "#2\n",
    "laptop_df.columns = laptop_df.columns.str.strip()"
   ]
  },
  {
   "cell_type": "code",
   "execution_count": 26,
   "id": "866e8e5f",
   "metadata": {},
   "outputs": [
    {
     "data": {
      "text/plain": [
       "11th      69\n",
       "10th      24\n",
       "-         17\n",
       "4          3\n",
       "8th        3\n",
       "8          2\n",
       "7th        2\n",
       "3rd        1\n",
       "A99425     1\n",
       "Ryzen™     1\n",
       "Name: Processor_Gen, dtype: int64"
      ]
     },
     "execution_count": 26,
     "metadata": {},
     "output_type": "execute_result"
    }
   ],
   "source": [
    "#3\n",
    "laptop_df['Processor_Gen']= laptop_df['Processor_Gen'].str.replace('(', '')\n",
    "laptop_df.Processor_Gen.value_counts()"
   ]
  },
  {
   "cell_type": "code",
   "execution_count": 27,
   "id": "0e11fd04",
   "metadata": {},
   "outputs": [],
   "source": [
    "laptop_df.loc[laptop_df[\"Processor_Gen\"] == \"4\", \"Processor_Gen\"] = \"4th\"\n",
    "laptop_df.loc[laptop_df[\"Processor_Gen\"] == \"8\", \"Processor_Gen\"] = \"8th\""
   ]
  },
  {
   "cell_type": "code",
   "execution_count": 28,
   "id": "6090400a",
   "metadata": {},
   "outputs": [
    {
     "data": {
      "text/plain": [
       "11th      69\n",
       "10th      24\n",
       "-         17\n",
       "8th        5\n",
       "4th        3\n",
       "7th        2\n",
       "3rd        1\n",
       "A99425     1\n",
       "Ryzen™     1\n",
       "Name: Processor_Gen, dtype: int64"
      ]
     },
     "execution_count": 28,
     "metadata": {},
     "output_type": "execute_result"
    }
   ],
   "source": [
    "laptop_df.Processor_Gen.value_counts()"
   ]
  },
  {
   "cell_type": "code",
   "execution_count": 29,
   "id": "3da096c5",
   "metadata": {},
   "outputs": [
    {
     "data": {
      "text/plain": [
       "Inspiron      26\n",
       "VivoBook      17\n",
       "IdeaPad       15\n",
       "Vostro        10\n",
       "Ideapad        6\n",
       "Ryzen          5\n",
       "2020           4\n",
       "MacBook        3\n",
       "Pavilion       3\n",
       "HP             2\n",
       "Chromebook     2\n",
       "TUF            2\n",
       "ROG            2\n",
       "Notebook       1\n",
       "Surface        1\n",
       "Swift          1\n",
       "3000           1\n",
       "Katana         1\n",
       "Book           1\n",
       "Aspire         1\n",
       "IDEAPAD        1\n",
       "Travelmate     1\n",
       "APU            1\n",
       "v15            1\n",
       "ZenBook        1\n",
       "Nitro          1\n",
       "ASUS           1\n",
       "GF63           1\n",
       "Thinkpad       1\n",
       "15q            1\n",
       "250-G6         1\n",
       "Envy           1\n",
       "Name: Model, dtype: int64"
      ]
     },
     "execution_count": 29,
     "metadata": {},
     "output_type": "execute_result"
    }
   ],
   "source": [
    "#4\n",
    "laptop_df['Model'] = laptop_df['Model'].str.replace('Vivobook', 'VivoBook')\n",
    "laptop_df.Model.value_counts()"
   ]
  },
  {
   "cell_type": "code",
   "execution_count": 30,
   "id": "2766de62",
   "metadata": {},
   "outputs": [
    {
     "data": {
      "text/plain": [
       "Inspiron      26\n",
       "IdeaPad       22\n",
       "VivoBook      17\n",
       "Vostro        10\n",
       "Ryzen          5\n",
       "2020           4\n",
       "MacBook        3\n",
       "Pavilion       3\n",
       "Chromebook     2\n",
       "ROG            2\n",
       "TUF            2\n",
       "HP             2\n",
       "Surface        1\n",
       "Swift          1\n",
       "Aspire         1\n",
       "Katana         1\n",
       "Book           1\n",
       "3000           1\n",
       "Notebook       1\n",
       "Travelmate     1\n",
       "APU            1\n",
       "v15            1\n",
       "GF63           1\n",
       "ZenBook        1\n",
       "Nitro          1\n",
       "ASUS           1\n",
       "Thinkpad       1\n",
       "15q            1\n",
       "250-G6         1\n",
       "Envy           1\n",
       "Name: Model, dtype: int64"
      ]
     },
     "execution_count": 30,
     "metadata": {},
     "output_type": "execute_result"
    }
   ],
   "source": [
    "#5\n",
    "laptop_df['Model']= laptop_df['Model'].str.replace('IDEAPAD', 'IdeaPad')\n",
    "laptop_df['Model']= laptop_df['Model'].str.replace('Ideapad', 'IdeaPad')\n",
    "\n",
    "laptop_df.Model.value_counts()"
   ]
  },
  {
   "cell_type": "code",
   "execution_count": 31,
   "id": "73016b37",
   "metadata": {},
   "outputs": [
    {
     "data": {
      "text/plain": [
       "Windows 10 Home    61\n",
       "Windows 11 Home    44\n",
       "Windows 10         10\n",
       "DOS                 5\n",
       "Chrome OS           2\n",
       "Name: OS, dtype: int64"
      ]
     },
     "execution_count": 31,
     "metadata": {},
     "output_type": "execute_result"
    }
   ],
   "source": [
    "#6\n",
    "laptop_df['OS']= laptop_df['OS'].str.replace('256 GB SSD', 'Windows 10 Home')\n",
    "laptop_df['OS']= laptop_df['OS'].str.replace('128 GB SSD', 'Windows 10 Home')\n",
    "\n",
    "laptop_df.OS.value_counts()"
   ]
  },
  {
   "cell_type": "code",
   "execution_count": 32,
   "id": "7660d6bb",
   "metadata": {},
   "outputs": [
    {
     "data": {
      "text/plain": [
       "4.3    26\n",
       "4.4    21\n",
       "4.2    18\n",
       "4.5    15\n",
       "3.7    15\n",
       "4.6     8\n",
       "4.1     6\n",
       "3.9     5\n",
       "3.6     5\n",
       "4.7     3\n",
       "2.9     2\n",
       "4.0     2\n",
       "3.1     1\n",
       "4.8     1\n",
       "3.2     1\n",
       "3.4     1\n",
       "Name: Rating, dtype: int64"
      ]
     },
     "execution_count": 32,
     "metadata": {},
     "output_type": "execute_result"
    }
   ],
   "source": [
    "#7\n",
    "laptop_df['Rating']= laptop_df['Rating'].replace('4.', '4.0')\n",
    "laptop_df.Rating.value_counts()"
   ]
  },
  {
   "cell_type": "code",
   "execution_count": 33,
   "id": "db87bd37",
   "metadata": {},
   "outputs": [],
   "source": [
    "#8\n",
    "laptop_df.drop('Unnamed: 0', inplace= True, axis=1)"
   ]
  },
  {
   "cell_type": "code",
   "execution_count": null,
   "id": "1c462df7",
   "metadata": {},
   "outputs": [],
   "source": []
  },
  {
   "cell_type": "markdown",
   "id": "c294c22e",
   "metadata": {},
   "source": [
    "#### IV- Visualize the data\n",
    "#### Now that we cleaned the data, let's visualize the relationship between different variables. That will enable us to draw insights and uncover hidden patterns in the dataset."
   ]
  },
  {
   "cell_type": "code",
   "execution_count": 34,
   "id": "e4ff586c",
   "metadata": {},
   "outputs": [
    {
     "data": {
      "text/html": [
       "<div>\n",
       "<style scoped>\n",
       "    .dataframe tbody tr th:only-of-type {\n",
       "        vertical-align: middle;\n",
       "    }\n",
       "\n",
       "    .dataframe tbody tr th {\n",
       "        vertical-align: top;\n",
       "    }\n",
       "\n",
       "    .dataframe thead th {\n",
       "        text-align: right;\n",
       "    }\n",
       "</style>\n",
       "<table border=\"1\" class=\"dataframe\">\n",
       "  <thead>\n",
       "    <tr style=\"text-align: right;\">\n",
       "      <th></th>\n",
       "      <th>Brand</th>\n",
       "      <th>Model</th>\n",
       "      <th>Series</th>\n",
       "      <th>Processor</th>\n",
       "      <th>Processor_Gen</th>\n",
       "      <th>RAM</th>\n",
       "      <th>Hard_Disk_Capacity</th>\n",
       "      <th>OS</th>\n",
       "      <th>Rating</th>\n",
       "      <th>Price</th>\n",
       "    </tr>\n",
       "  </thead>\n",
       "  <tbody>\n",
       "    <tr>\n",
       "      <th>0</th>\n",
       "      <td>DELL</td>\n",
       "      <td>Inspiron</td>\n",
       "      <td>NaN</td>\n",
       "      <td>i3</td>\n",
       "      <td>11th</td>\n",
       "      <td>8.0</td>\n",
       "      <td>1 TB HDD</td>\n",
       "      <td>Windows 11 Home</td>\n",
       "      <td>3.7</td>\n",
       "      <td>39040</td>\n",
       "    </tr>\n",
       "    <tr>\n",
       "      <th>1</th>\n",
       "      <td>DELL</td>\n",
       "      <td>Vostro</td>\n",
       "      <td>NaN</td>\n",
       "      <td>i5</td>\n",
       "      <td>11th</td>\n",
       "      <td>8.0</td>\n",
       "      <td>1 TB HDD</td>\n",
       "      <td>Windows 10 Home</td>\n",
       "      <td>3.6</td>\n",
       "      <td>50840</td>\n",
       "    </tr>\n",
       "    <tr>\n",
       "      <th>2</th>\n",
       "      <td>ASUS</td>\n",
       "      <td>VivoBook</td>\n",
       "      <td>15</td>\n",
       "      <td>i3</td>\n",
       "      <td>10th</td>\n",
       "      <td>8.0</td>\n",
       "      <td>512 GB SSD</td>\n",
       "      <td>Windows 11 Home</td>\n",
       "      <td>4.3</td>\n",
       "      <td>37940</td>\n",
       "    </tr>\n",
       "  </tbody>\n",
       "</table>\n",
       "</div>"
      ],
      "text/plain": [
       "  Brand     Model Series Processor Processor_Gen  RAM Hard_Disk_Capacity  \\\n",
       "0  DELL  Inspiron    NaN        i3          11th  8.0           1 TB HDD   \n",
       "1  DELL    Vostro    NaN        i5          11th  8.0           1 TB HDD   \n",
       "2  ASUS  VivoBook     15        i3          10th  8.0         512 GB SSD   \n",
       "\n",
       "                OS  Rating  Price  \n",
       "0  Windows 11 Home     3.7  39040  \n",
       "1  Windows 10 Home     3.6  50840  \n",
       "2  Windows 11 Home     4.3  37940  "
      ]
     },
     "execution_count": 34,
     "metadata": {},
     "output_type": "execute_result"
    }
   ],
   "source": [
    "laptop_df.head(3)"
   ]
  },
  {
   "cell_type": "markdown",
   "id": "865d8ca5",
   "metadata": {},
   "source": [
    "#### 1. Brand Vs Rating\n",
    "#### Since we have many laptops with the same brand, we'll create a new dataframe for each brand and its average rating:"
   ]
  },
  {
   "cell_type": "code",
   "execution_count": 16,
   "id": "21aa9c87",
   "metadata": {
    "scrolled": true
   },
   "outputs": [
    {
     "data": {
      "text/plain": [
       "Brand\n",
       "APPLE        4.585714\n",
       "ASUS         4.237931\n",
       "DELL         3.955000\n",
       "HP           4.300000\n",
       "Lenovo       4.239286\n",
       "MICROSOFT    4.500000\n",
       "MSI          4.433333\n",
       "acer         4.225000\n",
       "realme       4.400000\n",
       "Name: Rating, dtype: float64"
      ]
     },
     "execution_count": 16,
     "metadata": {},
     "output_type": "execute_result"
    }
   ],
   "source": [
    "#Calculate the mean(average) rating for each brand\n",
    "laptop_df.groupby('Brand')['Rating'].mean()\n"
   ]
  },
  {
   "cell_type": "code",
   "execution_count": 17,
   "id": "6d053594",
   "metadata": {},
   "outputs": [
    {
     "data": {
      "text/html": [
       "<div>\n",
       "<style scoped>\n",
       "    .dataframe tbody tr th:only-of-type {\n",
       "        vertical-align: middle;\n",
       "    }\n",
       "\n",
       "    .dataframe tbody tr th {\n",
       "        vertical-align: top;\n",
       "    }\n",
       "\n",
       "    .dataframe thead th {\n",
       "        text-align: right;\n",
       "    }\n",
       "</style>\n",
       "<table border=\"1\" class=\"dataframe\">\n",
       "  <thead>\n",
       "    <tr style=\"text-align: right;\">\n",
       "      <th></th>\n",
       "      <th>Brand</th>\n",
       "      <th>Average rating</th>\n",
       "    </tr>\n",
       "  </thead>\n",
       "  <tbody>\n",
       "    <tr>\n",
       "      <th>2</th>\n",
       "      <td>DELL</td>\n",
       "      <td>3.955000</td>\n",
       "    </tr>\n",
       "    <tr>\n",
       "      <th>7</th>\n",
       "      <td>acer</td>\n",
       "      <td>4.225000</td>\n",
       "    </tr>\n",
       "    <tr>\n",
       "      <th>1</th>\n",
       "      <td>ASUS</td>\n",
       "      <td>4.237931</td>\n",
       "    </tr>\n",
       "    <tr>\n",
       "      <th>4</th>\n",
       "      <td>Lenovo</td>\n",
       "      <td>4.239286</td>\n",
       "    </tr>\n",
       "    <tr>\n",
       "      <th>3</th>\n",
       "      <td>HP</td>\n",
       "      <td>4.300000</td>\n",
       "    </tr>\n",
       "    <tr>\n",
       "      <th>8</th>\n",
       "      <td>realme</td>\n",
       "      <td>4.400000</td>\n",
       "    </tr>\n",
       "    <tr>\n",
       "      <th>6</th>\n",
       "      <td>MSI</td>\n",
       "      <td>4.433333</td>\n",
       "    </tr>\n",
       "    <tr>\n",
       "      <th>5</th>\n",
       "      <td>MICROSOFT</td>\n",
       "      <td>4.500000</td>\n",
       "    </tr>\n",
       "    <tr>\n",
       "      <th>0</th>\n",
       "      <td>APPLE</td>\n",
       "      <td>4.585714</td>\n",
       "    </tr>\n",
       "  </tbody>\n",
       "</table>\n",
       "</div>"
      ],
      "text/plain": [
       "       Brand  Average rating\n",
       "2       DELL        3.955000\n",
       "7       acer        4.225000\n",
       "1       ASUS        4.237931\n",
       "4     Lenovo        4.239286\n",
       "3         HP        4.300000\n",
       "8     realme        4.400000\n",
       "6        MSI        4.433333\n",
       "5  MICROSOFT        4.500000\n",
       "0      APPLE        4.585714"
      ]
     },
     "execution_count": 17,
     "metadata": {},
     "output_type": "execute_result"
    }
   ],
   "source": [
    "#Create a new dataframe with 2 columns: Brand & Average rating\n",
    "br_data= [['APPLE' , 4.585714],\n",
    "          ['ASUS', 4.237931],\n",
    "          ['DELL', 3.955000],\n",
    "          ['HP',   4.300000],\n",
    "          ['Lenovo', 4.239286],\n",
    "          ['MICROSOFT', 4.500000],\n",
    "          ['MSI', 4.433333],\n",
    "          ['acer', 4.225000],\n",
    "          ['realme', 4.400000]]\n",
    "br_df= pd.DataFrame(br_data, columns= ['Brand', 'Average rating'])\n",
    "br_df.sort_values('Average rating')"
   ]
  },
  {
   "cell_type": "code",
   "execution_count": 18,
   "id": "3f93a0b7",
   "metadata": {},
   "outputs": [
    {
     "data": {
      "image/png": "[encoded data removed]",
      "text/plain": [
       "<Figure size 864x288 with 1 Axes>"
      ]
     },
     "metadata": {
      "needs_background": "light"
     },
     "output_type": "display_data"
    }
   ],
   "source": [
    "#Arrange the bars ascendingly according to the Average rating \n",
    "br_df= br_df.sort_values('Average rating')\n",
    "\n",
    "#plot a bar chart of each brand Vs average rating using the dataset we just created\n",
    "x= br_df['Brand']\n",
    "y= br_df['Average rating']\n",
    "\n",
    "plt.figure(figsize=(12,4)) #chart size\n",
    "plt.bar(x, y, width=0.50, color= 'grey') #width refers to the bars width\n",
    "plt.title('Brand Vs Average Rating', fontsize= 16)\n",
    "plt.xlabel('Brand', fontsize= 14)\n",
    "plt.ylabel('Average Rating', fontsize= 14)\n",
    "plt.show()"
   ]
  },
  {
   "cell_type": "markdown",
   "id": "ba30caa8",
   "metadata": {},
   "source": [
    "#### You can see from the graph that Dell laptops have the lowest rating on average (3.9), while the highest rating goes to Apple laptops (4.58) followed by Microsoft (4.5) and MSI in the third place (4.4)."
   ]
  },
  {
   "cell_type": "markdown",
   "id": "28a9aa1f",
   "metadata": {},
   "source": [
    "#### 2. Brand Vs Price"
   ]
  },
  {
   "cell_type": "code",
   "execution_count": 37,
   "id": "5be91309",
   "metadata": {},
   "outputs": [
    {
     "data": {
      "text/plain": [
       "Brand\n",
       "APPLE        114525.714286\n",
       "ASUS          49748.965517\n",
       "DELL          46808.150000\n",
       "HP            54680.235294\n",
       "Lenovo        49645.107143\n",
       "MICROSOFT     91949.000000\n",
       "MSI           63873.333333\n",
       "acer          62065.000000\n",
       "realme        46940.000000\n",
       "Name: Price, dtype: float64"
      ]
     },
     "execution_count": 37,
     "metadata": {},
     "output_type": "execute_result"
    }
   ],
   "source": [
    "#Calculate the mean(average) price for each brand\n",
    "laptop_df.groupby('Brand')['Price'].mean()"
   ]
  },
  {
   "cell_type": "code",
   "execution_count": 38,
   "id": "90a83e84",
   "metadata": {},
   "outputs": [
    {
     "data": {
      "text/html": [
       "<div>\n",
       "<style scoped>\n",
       "    .dataframe tbody tr th:only-of-type {\n",
       "        vertical-align: middle;\n",
       "    }\n",
       "\n",
       "    .dataframe tbody tr th {\n",
       "        vertical-align: top;\n",
       "    }\n",
       "\n",
       "    .dataframe thead th {\n",
       "        text-align: right;\n",
       "    }\n",
       "</style>\n",
       "<table border=\"1\" class=\"dataframe\">\n",
       "  <thead>\n",
       "    <tr style=\"text-align: right;\">\n",
       "      <th></th>\n",
       "      <th>Brand</th>\n",
       "      <th>Average price</th>\n",
       "    </tr>\n",
       "  </thead>\n",
       "  <tbody>\n",
       "    <tr>\n",
       "      <th>2</th>\n",
       "      <td>DELL</td>\n",
       "      <td>46808</td>\n",
       "    </tr>\n",
       "    <tr>\n",
       "      <th>8</th>\n",
       "      <td>realme</td>\n",
       "      <td>46940</td>\n",
       "    </tr>\n",
       "    <tr>\n",
       "      <th>4</th>\n",
       "      <td>Lenovo</td>\n",
       "      <td>49645</td>\n",
       "    </tr>\n",
       "    <tr>\n",
       "      <th>1</th>\n",
       "      <td>ASUS</td>\n",
       "      <td>49748</td>\n",
       "    </tr>\n",
       "    <tr>\n",
       "      <th>3</th>\n",
       "      <td>HP</td>\n",
       "      <td>54680</td>\n",
       "    </tr>\n",
       "    <tr>\n",
       "      <th>7</th>\n",
       "      <td>acer</td>\n",
       "      <td>62065</td>\n",
       "    </tr>\n",
       "    <tr>\n",
       "      <th>6</th>\n",
       "      <td>MSI</td>\n",
       "      <td>63873</td>\n",
       "    </tr>\n",
       "    <tr>\n",
       "      <th>5</th>\n",
       "      <td>MICROSOFT</td>\n",
       "      <td>91949</td>\n",
       "    </tr>\n",
       "    <tr>\n",
       "      <th>0</th>\n",
       "      <td>APPLE</td>\n",
       "      <td>114525</td>\n",
       "    </tr>\n",
       "  </tbody>\n",
       "</table>\n",
       "</div>"
      ],
      "text/plain": [
       "       Brand  Average price\n",
       "2       DELL          46808\n",
       "8     realme          46940\n",
       "4     Lenovo          49645\n",
       "1       ASUS          49748\n",
       "3         HP          54680\n",
       "7       acer          62065\n",
       "6        MSI          63873\n",
       "5  MICROSOFT          91949\n",
       "0      APPLE         114525"
      ]
     },
     "execution_count": 38,
     "metadata": {},
     "output_type": "execute_result"
    }
   ],
   "source": [
    "#Create a new dataframe with 2 columns: Brand & Average price\n",
    "bp_data= [['APPLE' , 114525],\n",
    "          ['ASUS', 49748],\n",
    "          ['DELL', 46808],\n",
    "          ['HP',   54680],\n",
    "          ['Lenovo', 49645],\n",
    "          ['MICROSOFT', 91949],\n",
    "          ['MSI', 63873],\n",
    "          ['acer', 62065],\n",
    "          ['realme', 46940]]\n",
    "bp_df= pd.DataFrame(bp_data, columns= ['Brand', 'Average price'])\n",
    "bp_df.sort_values('Average price')"
   ]
  },
  {
   "cell_type": "code",
   "execution_count": 39,
   "id": "d9811582",
   "metadata": {},
   "outputs": [
    {
     "data": {
      "image/png": "[encoded data removed]",
      "text/plain": [
       "<Figure size 864x288 with 1 Axes>"
      ]
     },
     "metadata": {
      "needs_background": "light"
     },
     "output_type": "display_data"
    }
   ],
   "source": [
    "#Arrange the bars ascendingly according to the Average price \n",
    "bp_df= bp_df.sort_values('Average price')\n",
    "\n",
    "#plot a bar chart of each brand Vs average price using the dataset we just created\n",
    "x= bp_df['Brand']\n",
    "y= bp_df['Average price']\n",
    "\n",
    "plt.figure(figsize=(12,4)) \n",
    "plt.bar(x, y, width=0.50, color= 'green')\n",
    "plt.title('Brand Vs Average Price', fontsize= 16)\n",
    "plt.xlabel('Brand', fontsize= 14)\n",
    "plt.ylabel('Average Price', fontsize= 14)\n",
    "plt.show()"
   ]
  },
  {
   "cell_type": "markdown",
   "id": "6960c2d7",
   "metadata": {},
   "source": [
    "#### The brand with the highest average price is Apple (114525), followed by Microsoft (91949), then in the third position comes MSI with an average price of 63873. If you notice, this is the same order of the previous bar chart, meaning that the rating is positively correlating with the price, so the higher the rating, the higher the price.\n"
   ]
  },
  {
   "cell_type": "markdown",
   "id": "12cd5bf7",
   "metadata": {},
   "source": [
    "#### 3. Rating Vs Price"
   ]
  },
  {
   "cell_type": "code",
   "execution_count": 40,
   "id": "db095fe8",
   "metadata": {},
   "outputs": [
    {
     "data": {
      "image/png": "[encoded data removed]",
      "text/plain": [
       "<Figure size 864x288 with 1 Axes>"
      ]
     },
     "metadata": {
      "needs_background": "light"
     },
     "output_type": "display_data"
    }
   ],
   "source": [
    "x= laptop_df['Rating']\n",
    "y= laptop_df['Price']\n",
    "\n",
    "plt.figure(figsize=(12,4))\n",
    "plt.scatter(x, y, color= 'orange')\n",
    "plt.title('Rating Vs Price', fontsize= 16)\n",
    "plt.xlabel('Rating', fontsize= 14)\n",
    "plt.ylabel('Price', fontsize= 14)\n",
    "plt.show()"
   ]
  },
  {
   "cell_type": "markdown",
   "id": "7702317e",
   "metadata": {},
   "source": [
    "#### Although the correlation is not quite clear, but you can see from the scatter plot that higher ratings are associated with higher prices. Which confirms the findings of the first and second charts."
   ]
  },
  {
   "cell_type": "markdown",
   "id": "c39f3333",
   "metadata": {},
   "source": [
    "#### 4. Model Vs Rating"
   ]
  },
  {
   "cell_type": "code",
   "execution_count": 41,
   "id": "475fd2a6",
   "metadata": {},
   "outputs": [
    {
     "data": {
      "text/plain": [
       "Model\n",
       "15q           4.200000\n",
       "2020          4.650000\n",
       "250-G6        4.200000\n",
       "3000          4.200000\n",
       "APU           3.900000\n",
       "ASUS          4.500000\n",
       "Aspire        4.400000\n",
       "Book          4.400000\n",
       "Chromebook    3.900000\n",
       "Envy          4.300000\n",
       "GF63          4.500000\n",
       "HP            4.450000\n",
       "IdeaPad       4.304545\n",
       "Inspiron      4.015385\n",
       "Katana        4.400000\n",
       "MacBook       4.500000\n",
       "Nitro         4.500000\n",
       "Notebook      3.900000\n",
       "Pavilion      4.466667\n",
       "ROG           4.600000\n",
       "Ryzen         4.380000\n",
       "Surface       4.500000\n",
       "Swift         4.600000\n",
       "TUF           4.550000\n",
       "Thinkpad      4.100000\n",
       "Travelmate    3.400000\n",
       "VivoBook      4.176471\n",
       "Vostro        3.910000\n",
       "ZenBook       4.400000\n",
       "v15           3.100000\n",
       "Name: Rating, dtype: float64"
      ]
     },
     "execution_count": 41,
     "metadata": {},
     "output_type": "execute_result"
    }
   ],
   "source": [
    "#Calculate the mean(average) rating for each model\n",
    "laptop_df.groupby('Model')['Rating'].mean()"
   ]
  },
  {
   "cell_type": "code",
   "execution_count": 42,
   "id": "4b6b0c14",
   "metadata": {},
   "outputs": [
    {
     "data": {
      "text/html": [
       "<div>\n",
       "<style scoped>\n",
       "    .dataframe tbody tr th:only-of-type {\n",
       "        vertical-align: middle;\n",
       "    }\n",
       "\n",
       "    .dataframe tbody tr th {\n",
       "        vertical-align: top;\n",
       "    }\n",
       "\n",
       "    .dataframe thead th {\n",
       "        text-align: right;\n",
       "    }\n",
       "</style>\n",
       "<table border=\"1\" class=\"dataframe\">\n",
       "  <thead>\n",
       "    <tr style=\"text-align: right;\">\n",
       "      <th></th>\n",
       "      <th>Model</th>\n",
       "      <th>Average rating</th>\n",
       "    </tr>\n",
       "  </thead>\n",
       "  <tbody>\n",
       "    <tr>\n",
       "      <th>29</th>\n",
       "      <td>v15</td>\n",
       "      <td>3.100000</td>\n",
       "    </tr>\n",
       "    <tr>\n",
       "      <th>25</th>\n",
       "      <td>Travelmate</td>\n",
       "      <td>3.400000</td>\n",
       "    </tr>\n",
       "    <tr>\n",
       "      <th>4</th>\n",
       "      <td>APU</td>\n",
       "      <td>3.900000</td>\n",
       "    </tr>\n",
       "    <tr>\n",
       "      <th>17</th>\n",
       "      <td>Notebook</td>\n",
       "      <td>3.900000</td>\n",
       "    </tr>\n",
       "    <tr>\n",
       "      <th>8</th>\n",
       "      <td>Chromebook</td>\n",
       "      <td>3.900000</td>\n",
       "    </tr>\n",
       "    <tr>\n",
       "      <th>27</th>\n",
       "      <td>Vostro</td>\n",
       "      <td>3.910000</td>\n",
       "    </tr>\n",
       "    <tr>\n",
       "      <th>13</th>\n",
       "      <td>Inspiron</td>\n",
       "      <td>4.015385</td>\n",
       "    </tr>\n",
       "    <tr>\n",
       "      <th>24</th>\n",
       "      <td>Thinkpad</td>\n",
       "      <td>4.100000</td>\n",
       "    </tr>\n",
       "    <tr>\n",
       "      <th>26</th>\n",
       "      <td>VivoBook</td>\n",
       "      <td>4.176471</td>\n",
       "    </tr>\n",
       "    <tr>\n",
       "      <th>0</th>\n",
       "      <td>15q</td>\n",
       "      <td>4.200000</td>\n",
       "    </tr>\n",
       "    <tr>\n",
       "      <th>2</th>\n",
       "      <td>250-G6</td>\n",
       "      <td>4.200000</td>\n",
       "    </tr>\n",
       "    <tr>\n",
       "      <th>3</th>\n",
       "      <td>3000</td>\n",
       "      <td>4.200000</td>\n",
       "    </tr>\n",
       "    <tr>\n",
       "      <th>9</th>\n",
       "      <td>Envy</td>\n",
       "      <td>4.300000</td>\n",
       "    </tr>\n",
       "    <tr>\n",
       "      <th>12</th>\n",
       "      <td>IdeaPad</td>\n",
       "      <td>4.304545</td>\n",
       "    </tr>\n",
       "    <tr>\n",
       "      <th>20</th>\n",
       "      <td>Ryzen</td>\n",
       "      <td>4.380000</td>\n",
       "    </tr>\n",
       "    <tr>\n",
       "      <th>14</th>\n",
       "      <td>Katana</td>\n",
       "      <td>4.400000</td>\n",
       "    </tr>\n",
       "    <tr>\n",
       "      <th>7</th>\n",
       "      <td>Book</td>\n",
       "      <td>4.400000</td>\n",
       "    </tr>\n",
       "    <tr>\n",
       "      <th>28</th>\n",
       "      <td>ZenBook</td>\n",
       "      <td>4.400000</td>\n",
       "    </tr>\n",
       "    <tr>\n",
       "      <th>6</th>\n",
       "      <td>Aspire</td>\n",
       "      <td>4.400000</td>\n",
       "    </tr>\n",
       "    <tr>\n",
       "      <th>11</th>\n",
       "      <td>HP</td>\n",
       "      <td>4.450000</td>\n",
       "    </tr>\n",
       "    <tr>\n",
       "      <th>18</th>\n",
       "      <td>Pavilion</td>\n",
       "      <td>4.466667</td>\n",
       "    </tr>\n",
       "    <tr>\n",
       "      <th>5</th>\n",
       "      <td>ASUS</td>\n",
       "      <td>4.500000</td>\n",
       "    </tr>\n",
       "    <tr>\n",
       "      <th>10</th>\n",
       "      <td>GF63</td>\n",
       "      <td>4.500000</td>\n",
       "    </tr>\n",
       "    <tr>\n",
       "      <th>21</th>\n",
       "      <td>Surface</td>\n",
       "      <td>4.500000</td>\n",
       "    </tr>\n",
       "    <tr>\n",
       "      <th>16</th>\n",
       "      <td>Nitro</td>\n",
       "      <td>4.500000</td>\n",
       "    </tr>\n",
       "    <tr>\n",
       "      <th>15</th>\n",
       "      <td>MacBook</td>\n",
       "      <td>4.500000</td>\n",
       "    </tr>\n",
       "    <tr>\n",
       "      <th>23</th>\n",
       "      <td>TUF</td>\n",
       "      <td>4.550000</td>\n",
       "    </tr>\n",
       "    <tr>\n",
       "      <th>22</th>\n",
       "      <td>Swift</td>\n",
       "      <td>4.600000</td>\n",
       "    </tr>\n",
       "    <tr>\n",
       "      <th>19</th>\n",
       "      <td>ROG</td>\n",
       "      <td>4.600000</td>\n",
       "    </tr>\n",
       "    <tr>\n",
       "      <th>1</th>\n",
       "      <td>2020</td>\n",
       "      <td>4.650000</td>\n",
       "    </tr>\n",
       "  </tbody>\n",
       "</table>\n",
       "</div>"
      ],
      "text/plain": [
       "         Model  Average rating\n",
       "29         v15        3.100000\n",
       "25  Travelmate        3.400000\n",
       "4          APU        3.900000\n",
       "17    Notebook        3.900000\n",
       "8   Chromebook        3.900000\n",
       "27      Vostro        3.910000\n",
       "13    Inspiron        4.015385\n",
       "24    Thinkpad        4.100000\n",
       "26    VivoBook        4.176471\n",
       "0          15q        4.200000\n",
       "2       250-G6        4.200000\n",
       "3         3000        4.200000\n",
       "9         Envy        4.300000\n",
       "12     IdeaPad        4.304545\n",
       "20       Ryzen        4.380000\n",
       "14      Katana        4.400000\n",
       "7         Book        4.400000\n",
       "28     ZenBook        4.400000\n",
       "6       Aspire        4.400000\n",
       "11          HP        4.450000\n",
       "18    Pavilion        4.466667\n",
       "5         ASUS        4.500000\n",
       "10        GF63        4.500000\n",
       "21     Surface        4.500000\n",
       "16       Nitro        4.500000\n",
       "15     MacBook        4.500000\n",
       "23         TUF        4.550000\n",
       "22       Swift        4.600000\n",
       "19         ROG        4.600000\n",
       "1         2020        4.650000"
      ]
     },
     "execution_count": 42,
     "metadata": {},
     "output_type": "execute_result"
    }
   ],
   "source": [
    "#Create a new dataframe with 2 columns: Model & Average rating\n",
    "mr_data= [['15q', 4.200000], ['2020', 4.650000], ['250-G6', 4.200000],['3000', 4.200000],['APU', 3.900000],['ASUS', 4.500000],\n",
    "['Aspire', 4.400000], ['Book', 4.400000], ['Chromebook', 3.900000],['Envy', 4.300000],['GF63', 4.500000],['HP', 4.450000],\n",
    "['IdeaPad', 4.304545],['Inspiron', 4.015385],['Katana', 4.400000],['MacBook', 4.500000],['Nitro', 4.500000],['Notebook', 3.900000],\n",
    "['Pavilion', 4.466667],['ROG', 4.600000],['Ryzen', 4.380000],['Surface', 4.500000],['Swift', 4.600000],['TUF', 4.550000],\n",
    "['Thinkpad', 4.100000],['Travelmate', 3.400000],['VivoBook', 4.176471],['Vostro', 3.910000],['ZenBook',4.400000],['v15', 3.100000]]\n",
    "\n",
    "mr_df= pd.DataFrame(mr_data, columns= ['Model', 'Average rating'])\n",
    "mr_df.sort_values('Average rating')"
   ]
  },
  {
   "cell_type": "code",
   "execution_count": 43,
   "id": "d9792036",
   "metadata": {},
   "outputs": [
    {
     "data": {
      "image/png": "[encoded data removed]",
      "text/plain": [
       "<Figure size 2304x864 with 1 Axes>"
      ]
     },
     "metadata": {
      "needs_background": "light"
     },
     "output_type": "display_data"
    }
   ],
   "source": [
    "#Arrange the bars ascendingly according to the Average rating\n",
    "mr_df= mr_df.sort_values('Average rating')\n",
    "\n",
    "#plot a bar chart of each brand Vs average price using the dataset we just created\n",
    "x= mr_df['Model']\n",
    "y= mr_df['Average rating']\n",
    "\n",
    "plt.figure(figsize=(32,12)) #chart size\n",
    "plt.plot(x, y, color= 'blue')\n",
    "plt.title('Model Vs Average Rating', fontsize= 28)\n",
    "plt.xlabel('Model', fontsize= 23)\n",
    "plt.xticks(fontsize=22)\n",
    "plt.yticks(fontsize= 26)\n",
    "plt.xticks(rotation= 45)\n",
    "plt.ylabel('Average Rating', fontsize= 23)\n",
    "plt.show()"
   ]
  },
  {
   "cell_type": "markdown",
   "id": "386577c7",
   "metadata": {},
   "source": [
    "#### Laptop with models 2020, ROG, Swift, and TUF got the highest average ratings (4.65, 4.6, 4.6, 4.55 respectively). while v15 and Travelmate had the lowest ratings on average (3.1 and 3.4 respectively)"
   ]
  },
  {
   "cell_type": "markdown",
   "id": "f5cec4cc",
   "metadata": {},
   "source": [
    "#### 5. Model Vs Price"
   ]
  },
  {
   "cell_type": "code",
   "execution_count": 44,
   "id": "49d197f5",
   "metadata": {},
   "outputs": [
    {
     "data": {
      "text/plain": [
       "Model\n",
       "15q            32905.000000\n",
       "2020          113965.000000\n",
       "250-G6         46150.000000\n",
       "3000           43850.000000\n",
       "APU            21846.000000\n",
       "ASUS           71940.000000\n",
       "Aspire         52940.000000\n",
       "Book           46940.000000\n",
       "Chromebook     20565.000000\n",
       "Envy           74940.000000\n",
       "GF63           65940.000000\n",
       "HP             65940.000000\n",
       "IdeaPad        50436.727273\n",
       "Inspiron       46033.461538\n",
       "Katana         76940.000000\n",
       "MacBook       115273.333333\n",
       "Nitro          72940.000000\n",
       "Notebook       40940.000000\n",
       "Pavilion       78006.666667\n",
       "ROG            74440.000000\n",
       "Ryzen          43300.000000\n",
       "Surface        91949.000000\n",
       "Swift          59940.000000\n",
       "TUF            73940.000000\n",
       "Thinkpad       57440.000000\n",
       "Travelmate     62440.000000\n",
       "VivoBook       44628.823529\n",
       "Vostro         45448.600000\n",
       "ZenBook       114940.000000\n",
       "v15            39949.000000\n",
       "Name: Price, dtype: float64"
      ]
     },
     "execution_count": 44,
     "metadata": {},
     "output_type": "execute_result"
    }
   ],
   "source": [
    "#Calculate the mean(average) price for each model\n",
    "laptop_df.groupby('Model')['Price'].mean()"
   ]
  },
  {
   "cell_type": "code",
   "execution_count": 45,
   "id": "385ca3e7",
   "metadata": {},
   "outputs": [
    {
     "data": {
      "text/html": [
       "<div>\n",
       "<style scoped>\n",
       "    .dataframe tbody tr th:only-of-type {\n",
       "        vertical-align: middle;\n",
       "    }\n",
       "\n",
       "    .dataframe tbody tr th {\n",
       "        vertical-align: top;\n",
       "    }\n",
       "\n",
       "    .dataframe thead th {\n",
       "        text-align: right;\n",
       "    }\n",
       "</style>\n",
       "<table border=\"1\" class=\"dataframe\">\n",
       "  <thead>\n",
       "    <tr style=\"text-align: right;\">\n",
       "      <th></th>\n",
       "      <th>Model</th>\n",
       "      <th>Average price</th>\n",
       "    </tr>\n",
       "  </thead>\n",
       "  <tbody>\n",
       "    <tr>\n",
       "      <th>8</th>\n",
       "      <td>Chromebook</td>\n",
       "      <td>20565</td>\n",
       "    </tr>\n",
       "    <tr>\n",
       "      <th>4</th>\n",
       "      <td>APU</td>\n",
       "      <td>21846</td>\n",
       "    </tr>\n",
       "    <tr>\n",
       "      <th>0</th>\n",
       "      <td>15q</td>\n",
       "      <td>32905</td>\n",
       "    </tr>\n",
       "    <tr>\n",
       "      <th>29</th>\n",
       "      <td>v15</td>\n",
       "      <td>39949</td>\n",
       "    </tr>\n",
       "    <tr>\n",
       "      <th>17</th>\n",
       "      <td>Notebook</td>\n",
       "      <td>40940</td>\n",
       "    </tr>\n",
       "    <tr>\n",
       "      <th>20</th>\n",
       "      <td>Ryzen</td>\n",
       "      <td>43300</td>\n",
       "    </tr>\n",
       "    <tr>\n",
       "      <th>3</th>\n",
       "      <td>3000</td>\n",
       "      <td>43850</td>\n",
       "    </tr>\n",
       "    <tr>\n",
       "      <th>26</th>\n",
       "      <td>VivoBook</td>\n",
       "      <td>44628</td>\n",
       "    </tr>\n",
       "    <tr>\n",
       "      <th>27</th>\n",
       "      <td>Vostro</td>\n",
       "      <td>45448</td>\n",
       "    </tr>\n",
       "    <tr>\n",
       "      <th>13</th>\n",
       "      <td>Inspiron</td>\n",
       "      <td>46033</td>\n",
       "    </tr>\n",
       "    <tr>\n",
       "      <th>2</th>\n",
       "      <td>250-G6</td>\n",
       "      <td>46150</td>\n",
       "    </tr>\n",
       "    <tr>\n",
       "      <th>7</th>\n",
       "      <td>Book</td>\n",
       "      <td>46940</td>\n",
       "    </tr>\n",
       "    <tr>\n",
       "      <th>12</th>\n",
       "      <td>IdeaPad</td>\n",
       "      <td>50436</td>\n",
       "    </tr>\n",
       "    <tr>\n",
       "      <th>6</th>\n",
       "      <td>Aspire</td>\n",
       "      <td>52940</td>\n",
       "    </tr>\n",
       "    <tr>\n",
       "      <th>24</th>\n",
       "      <td>Thinkpad</td>\n",
       "      <td>57440</td>\n",
       "    </tr>\n",
       "    <tr>\n",
       "      <th>22</th>\n",
       "      <td>Swift</td>\n",
       "      <td>59940</td>\n",
       "    </tr>\n",
       "    <tr>\n",
       "      <th>25</th>\n",
       "      <td>Travelmate</td>\n",
       "      <td>62440</td>\n",
       "    </tr>\n",
       "    <tr>\n",
       "      <th>10</th>\n",
       "      <td>GF63</td>\n",
       "      <td>65940</td>\n",
       "    </tr>\n",
       "    <tr>\n",
       "      <th>11</th>\n",
       "      <td>HP</td>\n",
       "      <td>65940</td>\n",
       "    </tr>\n",
       "    <tr>\n",
       "      <th>5</th>\n",
       "      <td>ASUS</td>\n",
       "      <td>71940</td>\n",
       "    </tr>\n",
       "    <tr>\n",
       "      <th>16</th>\n",
       "      <td>Nitro</td>\n",
       "      <td>72940</td>\n",
       "    </tr>\n",
       "    <tr>\n",
       "      <th>23</th>\n",
       "      <td>TUF</td>\n",
       "      <td>73940</td>\n",
       "    </tr>\n",
       "    <tr>\n",
       "      <th>19</th>\n",
       "      <td>ROG</td>\n",
       "      <td>74440</td>\n",
       "    </tr>\n",
       "    <tr>\n",
       "      <th>9</th>\n",
       "      <td>Envy</td>\n",
       "      <td>74940</td>\n",
       "    </tr>\n",
       "    <tr>\n",
       "      <th>14</th>\n",
       "      <td>Katana</td>\n",
       "      <td>76940</td>\n",
       "    </tr>\n",
       "    <tr>\n",
       "      <th>18</th>\n",
       "      <td>Pavilion</td>\n",
       "      <td>78006</td>\n",
       "    </tr>\n",
       "    <tr>\n",
       "      <th>21</th>\n",
       "      <td>Surface</td>\n",
       "      <td>91949</td>\n",
       "    </tr>\n",
       "    <tr>\n",
       "      <th>1</th>\n",
       "      <td>2020</td>\n",
       "      <td>113965</td>\n",
       "    </tr>\n",
       "    <tr>\n",
       "      <th>28</th>\n",
       "      <td>ZenBook</td>\n",
       "      <td>114940</td>\n",
       "    </tr>\n",
       "    <tr>\n",
       "      <th>15</th>\n",
       "      <td>MacBook</td>\n",
       "      <td>115273</td>\n",
       "    </tr>\n",
       "  </tbody>\n",
       "</table>\n",
       "</div>"
      ],
      "text/plain": [
       "         Model  Average price\n",
       "8   Chromebook          20565\n",
       "4          APU          21846\n",
       "0          15q          32905\n",
       "29         v15          39949\n",
       "17    Notebook          40940\n",
       "20       Ryzen          43300\n",
       "3         3000          43850\n",
       "26    VivoBook          44628\n",
       "27      Vostro          45448\n",
       "13    Inspiron          46033\n",
       "2       250-G6          46150\n",
       "7         Book          46940\n",
       "12     IdeaPad          50436\n",
       "6       Aspire          52940\n",
       "24    Thinkpad          57440\n",
       "22       Swift          59940\n",
       "25  Travelmate          62440\n",
       "10        GF63          65940\n",
       "11          HP          65940\n",
       "5         ASUS          71940\n",
       "16       Nitro          72940\n",
       "23         TUF          73940\n",
       "19         ROG          74440\n",
       "9         Envy          74940\n",
       "14      Katana          76940\n",
       "18    Pavilion          78006\n",
       "21     Surface          91949\n",
       "1         2020         113965\n",
       "28     ZenBook         114940\n",
       "15     MacBook         115273"
      ]
     },
     "execution_count": 45,
     "metadata": {},
     "output_type": "execute_result"
    }
   ],
   "source": [
    "#Create a new dataframe with 2 columns: Model & Average price\n",
    "mp_data= [['15q', 32905], ['2020', 113965], ['250-G6', 46150],['3000', 43850],['APU', 21846],['ASUS', 71940],\n",
    "['Aspire', 52940], ['Book', 46940], ['Chromebook', 20565],['Envy', 74940],['GF63', 65940],['HP', 65940],\n",
    "['IdeaPad', 50436],['Inspiron', 46033],['Katana', 76940],['MacBook', 115273],['Nitro', 72940],['Notebook', 40940],\n",
    "['Pavilion', 78006],['ROG', 74440],['Ryzen', 43300],['Surface', 91949],['Swift', 59940],['TUF', 73940],\n",
    "['Thinkpad', 57440],['Travelmate', 62440],['VivoBook', 44628],['Vostro', 45448],['ZenBook',114940],['v15', 39949]]\n",
    "\n",
    "mp_df= pd.DataFrame(mp_data, columns= ['Model', 'Average price'])\n",
    "mp_df.sort_values('Average price')"
   ]
  },
  {
   "cell_type": "code",
   "execution_count": 46,
   "id": "866c1b39",
   "metadata": {},
   "outputs": [
    {
     "data": {
      "image/png": "[encoded data removed]",
      "text/plain": [
       "<Figure size 2304x864 with 1 Axes>"
      ]
     },
     "metadata": {
      "needs_background": "light"
     },
     "output_type": "display_data"
    }
   ],
   "source": [
    "#Arrange the bars ascendingly according to the Average price\n",
    "mp_df= mp_df.sort_values('Average price')\n",
    "\n",
    "#plot a bar chart of each model Vs average price using the dataset we just created\n",
    "x= mp_df['Model']\n",
    "y= mp_df['Average price']\n",
    "\n",
    "plt.figure(figsize=(32,12)) #chart size\n",
    "plt.plot(x, y, color= 'purple')\n",
    "plt.title('Model Vs Average Price', fontsize= 28)\n",
    "plt.xlabel('Model', fontsize= 23)\n",
    "plt.xticks(fontsize=22)\n",
    "plt.yticks(fontsize= 26)\n",
    "plt.xticks(rotation= 45)\n",
    "plt.ylabel('Average Price', fontsize= 23)\n",
    "plt.show()"
   ]
  },
  {
   "cell_type": "markdown",
   "id": "1a4fb7f3",
   "metadata": {},
   "source": [
    "#### Models with the highest average prices are MacBook, ZenBook, and 2020 (115273, 114940, 113965 respectively). While Chromebook and APU are considered to be the cheapest of all models with average prices of 20565 and 21846.\n"
   ]
  },
  {
   "cell_type": "markdown",
   "id": "04ddcd23",
   "metadata": {},
   "source": [
    "#### 6. Processor Vs Price"
   ]
  },
  {
   "cell_type": "code",
   "execution_count": 47,
   "id": "10a0c064",
   "metadata": {},
   "outputs": [
    {
     "data": {
      "text/plain": [
       "Processor\n",
       "-           31590.000000\n",
       "3050U       33940.000000\n",
       "3250U       37406.666667\n",
       "3450U       47873.333333\n",
       "4600H       59940.000000\n",
       "4800H       75940.000000\n",
       "4800HS      72940.000000\n",
       "5300U       42740.000000\n",
       "5500U       49940.000000\n",
       "5600H       64440.000000\n",
       "5600U       57440.000000\n",
       "A9          21846.000000\n",
       "AMD         59850.000000\n",
       "R3-3250U    37340.000000\n",
       "i3          41611.206897\n",
       "i5          64557.388889\n",
       "i7          76740.000000\n",
       "Name: Price, dtype: float64"
      ]
     },
     "execution_count": 47,
     "metadata": {},
     "output_type": "execute_result"
    }
   ],
   "source": [
    "#Calculate the mean(average) price for each processor type\n",
    "laptop_df.groupby('Processor')['Price'].mean()"
   ]
  },
  {
   "cell_type": "code",
   "execution_count": 48,
   "id": "6182137c",
   "metadata": {},
   "outputs": [
    {
     "data": {
      "text/html": [
       "<div>\n",
       "<style scoped>\n",
       "    .dataframe tbody tr th:only-of-type {\n",
       "        vertical-align: middle;\n",
       "    }\n",
       "\n",
       "    .dataframe tbody tr th {\n",
       "        vertical-align: top;\n",
       "    }\n",
       "\n",
       "    .dataframe thead th {\n",
       "        text-align: right;\n",
       "    }\n",
       "</style>\n",
       "<table border=\"1\" class=\"dataframe\">\n",
       "  <thead>\n",
       "    <tr style=\"text-align: right;\">\n",
       "      <th></th>\n",
       "      <th>Processor</th>\n",
       "      <th>Average price</th>\n",
       "    </tr>\n",
       "  </thead>\n",
       "  <tbody>\n",
       "    <tr>\n",
       "      <th>10</th>\n",
       "      <td>A9</td>\n",
       "      <td>21846.000000</td>\n",
       "    </tr>\n",
       "    <tr>\n",
       "      <th>0</th>\n",
       "      <td>3050U</td>\n",
       "      <td>33940.000000</td>\n",
       "    </tr>\n",
       "    <tr>\n",
       "      <th>12</th>\n",
       "      <td>R3-3250U</td>\n",
       "      <td>37340.000000</td>\n",
       "    </tr>\n",
       "    <tr>\n",
       "      <th>1</th>\n",
       "      <td>3250U</td>\n",
       "      <td>37406.666667</td>\n",
       "    </tr>\n",
       "    <tr>\n",
       "      <th>13</th>\n",
       "      <td>i3</td>\n",
       "      <td>41611.206897</td>\n",
       "    </tr>\n",
       "    <tr>\n",
       "      <th>6</th>\n",
       "      <td>5300U</td>\n",
       "      <td>42740.000000</td>\n",
       "    </tr>\n",
       "    <tr>\n",
       "      <th>2</th>\n",
       "      <td>3450U</td>\n",
       "      <td>47873.333333</td>\n",
       "    </tr>\n",
       "    <tr>\n",
       "      <th>7</th>\n",
       "      <td>5500U</td>\n",
       "      <td>49940.000000</td>\n",
       "    </tr>\n",
       "    <tr>\n",
       "      <th>9</th>\n",
       "      <td>5600U</td>\n",
       "      <td>57440.000000</td>\n",
       "    </tr>\n",
       "    <tr>\n",
       "      <th>11</th>\n",
       "      <td>AMD</td>\n",
       "      <td>59850.000000</td>\n",
       "    </tr>\n",
       "    <tr>\n",
       "      <th>3</th>\n",
       "      <td>4600H</td>\n",
       "      <td>59940.000000</td>\n",
       "    </tr>\n",
       "    <tr>\n",
       "      <th>8</th>\n",
       "      <td>5600H</td>\n",
       "      <td>64440.000000</td>\n",
       "    </tr>\n",
       "    <tr>\n",
       "      <th>14</th>\n",
       "      <td>i5</td>\n",
       "      <td>64557.388889</td>\n",
       "    </tr>\n",
       "    <tr>\n",
       "      <th>5</th>\n",
       "      <td>4800HS</td>\n",
       "      <td>72940.000000</td>\n",
       "    </tr>\n",
       "    <tr>\n",
       "      <th>4</th>\n",
       "      <td>4800H</td>\n",
       "      <td>75940.000000</td>\n",
       "    </tr>\n",
       "    <tr>\n",
       "      <th>15</th>\n",
       "      <td>i7</td>\n",
       "      <td>76740.000000</td>\n",
       "    </tr>\n",
       "  </tbody>\n",
       "</table>\n",
       "</div>"
      ],
      "text/plain": [
       "   Processor  Average price\n",
       "10        A9   21846.000000\n",
       "0      3050U   33940.000000\n",
       "12  R3-3250U   37340.000000\n",
       "1      3250U   37406.666667\n",
       "13        i3   41611.206897\n",
       "6      5300U   42740.000000\n",
       "2      3450U   47873.333333\n",
       "7      5500U   49940.000000\n",
       "9      5600U   57440.000000\n",
       "11       AMD   59850.000000\n",
       "3      4600H   59940.000000\n",
       "8      5600H   64440.000000\n",
       "14        i5   64557.388889\n",
       "5     4800HS   72940.000000\n",
       "4      4800H   75940.000000\n",
       "15        i7   76740.000000"
      ]
     },
     "execution_count": 48,
     "metadata": {},
     "output_type": "execute_result"
    }
   ],
   "source": [
    "#Create a new dataframe with 2 columns: Processor type & Average price\n",
    "pp_data= [['3050U', 33940.000000],['3250U', 37406.666667],['3450U', 47873.333333],['4600H', 59940.000000],\n",
    "['4800H', 75940.000000],['4800HS', 72940.000000],['5300U', 42740.000000],['5500U', 49940.000000],['5600H', 64440.000000],\n",
    "['5600U', 57440.000000],['A9', 21846.000000],['AMD', 59850.000000],['R3-3250U', 37340.000000],['i3', 41611.206897],\n",
    "['i5', 64557.388889],['i7', 76740.000000]]\n",
    "\n",
    "pp_df= pd.DataFrame(pp_data, columns= ['Processor', 'Average price'])\n",
    "pp_df.sort_values('Average price')"
   ]
  },
  {
   "cell_type": "code",
   "execution_count": 49,
   "id": "f5253dcf",
   "metadata": {},
   "outputs": [
    {
     "data": {
      "image/png": "[encoded data removed]",
      "text/plain": [
       "<Figure size 2304x864 with 1 Axes>"
      ]
     },
     "metadata": {
      "needs_background": "light"
     },
     "output_type": "display_data"
    }
   ],
   "source": [
    "#Arrange the bars ascendingly according to the Average price\n",
    "pp_df= pp_df.sort_values('Average price')\n",
    "\n",
    "#plot a bar chart of each Processor type Vs average price using the dataset we just created\n",
    "x= pp_df['Processor']\n",
    "y= pp_df['Average price']\n",
    "\n",
    "plt.figure(figsize=(32,12)) #chart size\n",
    "plt.plot(x, y, color= 'pink')\n",
    "plt.title('Processor Vs Average Price', fontsize= 28)\n",
    "plt.xlabel('Processor', fontsize= 23)\n",
    "plt.xticks(fontsize=22)\n",
    "plt.yticks(fontsize= 26)\n",
    "plt.xticks(rotation= 45)\n",
    "plt.ylabel('Average Price', fontsize= 23)\n",
    "plt.show()"
   ]
  },
  {
   "cell_type": "markdown",
   "id": "0cfc2b21",
   "metadata": {},
   "source": [
    "#### Core i7, 4800H, and 4800HS processors cost on average the most of all processor types. While Apple A9 processor is the cheapest on average (21846)."
   ]
  },
  {
   "cell_type": "markdown",
   "id": "05e718fe",
   "metadata": {},
   "source": [
    "#### 7. RAM Vs Price"
   ]
  },
  {
   "cell_type": "code",
   "execution_count": 50,
   "id": "a9bc56c8",
   "metadata": {},
   "outputs": [
    {
     "data": {
      "text/plain": [
       "RAM\n",
       "4.0     33808.400000\n",
       "8.0     48914.400000\n",
       "16.0    74510.588235\n",
       "Name: Price, dtype: float64"
      ]
     },
     "execution_count": 50,
     "metadata": {},
     "output_type": "execute_result"
    }
   ],
   "source": [
    "#Calculate the mean(average) price for each RAM size\n",
    "laptop_df.groupby('RAM')['Price'].mean()"
   ]
  },
  {
   "cell_type": "code",
   "execution_count": 51,
   "id": "4ecd2fda",
   "metadata": {},
   "outputs": [
    {
     "data": {
      "text/html": [
       "<div>\n",
       "<style scoped>\n",
       "    .dataframe tbody tr th:only-of-type {\n",
       "        vertical-align: middle;\n",
       "    }\n",
       "\n",
       "    .dataframe tbody tr th {\n",
       "        vertical-align: top;\n",
       "    }\n",
       "\n",
       "    .dataframe thead th {\n",
       "        text-align: right;\n",
       "    }\n",
       "</style>\n",
       "<table border=\"1\" class=\"dataframe\">\n",
       "  <thead>\n",
       "    <tr style=\"text-align: right;\">\n",
       "      <th></th>\n",
       "      <th>RAM</th>\n",
       "      <th>Average price</th>\n",
       "    </tr>\n",
       "  </thead>\n",
       "  <tbody>\n",
       "    <tr>\n",
       "      <th>0</th>\n",
       "      <td>4.0</td>\n",
       "      <td>33808</td>\n",
       "    </tr>\n",
       "    <tr>\n",
       "      <th>1</th>\n",
       "      <td>8.0</td>\n",
       "      <td>48914</td>\n",
       "    </tr>\n",
       "    <tr>\n",
       "      <th>2</th>\n",
       "      <td>16.0</td>\n",
       "      <td>74510</td>\n",
       "    </tr>\n",
       "  </tbody>\n",
       "</table>\n",
       "</div>"
      ],
      "text/plain": [
       "    RAM  Average price\n",
       "0   4.0          33808\n",
       "1   8.0          48914\n",
       "2  16.0          74510"
      ]
     },
     "execution_count": 51,
     "metadata": {},
     "output_type": "execute_result"
    }
   ],
   "source": [
    "#Create a new dataframe with 2 columns: RAM size & Average price\n",
    "rp_data= [['4.0', 33808], ['8.0', 48914], ['16.0', 74510]]\n",
    "rp_df= pd.DataFrame(rp_data, columns= ['RAM', 'Average price'])\n",
    "rp_df.sort_values('Average price')"
   ]
  },
  {
   "cell_type": "code",
   "execution_count": 52,
   "id": "337531e4",
   "metadata": {},
   "outputs": [
    {
     "data": {
      "image/png": "[encoded data removed]",
      "text/plain": [
       "<Figure size 576x288 with 1 Axes>"
      ]
     },
     "metadata": {
      "needs_background": "light"
     },
     "output_type": "display_data"
    }
   ],
   "source": [
    "#plot a bar chart of each RAM size Vs average price using the dataset we just created\n",
    "x= rp_df['RAM']\n",
    "y= rp_df['Average price']\n",
    "\n",
    "plt.figure(figsize=(8,4)) #chart size\n",
    "plt.bar(x, y, width= 0.5, color= 'red')\n",
    "plt.title('RAM Vs Average Price', fontsize= 16)\n",
    "plt.xlabel('RAM', fontsize= 14)\n",
    "plt.ylabel('Average Price', fontsize= 14)\n",
    "plt.show()"
   ]
  },
  {
   "cell_type": "markdown",
   "id": "da8999fd",
   "metadata": {},
   "source": [
    "#### As expected, as the RAM size increases, the price increases. And this is quite resonable, because the higher the RAM, the better the performance."
   ]
  },
  {
   "cell_type": "markdown",
   "id": "01363b77",
   "metadata": {},
   "source": [
    "#### 8- Hard disk capacity Vs Price"
   ]
  },
  {
   "cell_type": "code",
   "execution_count": 21,
   "id": "4d2eb945",
   "metadata": {},
   "outputs": [
    {
     "data": {
      "text/plain": [
       "Hard_Disk_Capacity\n",
       "1 TB HDD              46219.44186\n",
       "1 TB SSD              72940.00000\n",
       "128 GB SSD            91949.00000\n",
       "256 GB SSD            39408.00000\n",
       "32 GB EMMC Storage    17640.00000\n",
       "512 GB SSD            59948.94000\n",
       "64 GB EMMC Storage    23490.00000\n",
       "Name: Price, dtype: float64"
      ]
     },
     "execution_count": 21,
     "metadata": {},
     "output_type": "execute_result"
    }
   ],
   "source": [
    "#Calculate the mean(average) price for each Hard disk size\n",
    "laptop_df.groupby('Hard_Disk_Capacity')['Price'].mean()"
   ]
  },
  {
   "cell_type": "code",
   "execution_count": 22,
   "id": "0fcf670a",
   "metadata": {},
   "outputs": [
    {
     "data": {
      "text/html": [
       "<div>\n",
       "<style scoped>\n",
       "    .dataframe tbody tr th:only-of-type {\n",
       "        vertical-align: middle;\n",
       "    }\n",
       "\n",
       "    .dataframe tbody tr th {\n",
       "        vertical-align: top;\n",
       "    }\n",
       "\n",
       "    .dataframe thead th {\n",
       "        text-align: right;\n",
       "    }\n",
       "</style>\n",
       "<table border=\"1\" class=\"dataframe\">\n",
       "  <thead>\n",
       "    <tr style=\"text-align: right;\">\n",
       "      <th></th>\n",
       "      <th>Hard disk capacity</th>\n",
       "      <th>Average price</th>\n",
       "    </tr>\n",
       "  </thead>\n",
       "  <tbody>\n",
       "    <tr>\n",
       "      <th>4</th>\n",
       "      <td>32 GB EMMC Storage</td>\n",
       "      <td>17640.00000</td>\n",
       "    </tr>\n",
       "    <tr>\n",
       "      <th>6</th>\n",
       "      <td>64 GB EMMC Storage</td>\n",
       "      <td>23490.00000</td>\n",
       "    </tr>\n",
       "    <tr>\n",
       "      <th>3</th>\n",
       "      <td>256 GB SSD</td>\n",
       "      <td>39408.00000</td>\n",
       "    </tr>\n",
       "    <tr>\n",
       "      <th>0</th>\n",
       "      <td>1 TB HDD</td>\n",
       "      <td>46219.44186</td>\n",
       "    </tr>\n",
       "    <tr>\n",
       "      <th>5</th>\n",
       "      <td>512 GB SSD</td>\n",
       "      <td>59948.94000</td>\n",
       "    </tr>\n",
       "    <tr>\n",
       "      <th>1</th>\n",
       "      <td>1 TB SSD</td>\n",
       "      <td>72940.00000</td>\n",
       "    </tr>\n",
       "    <tr>\n",
       "      <th>2</th>\n",
       "      <td>128 GB SSD</td>\n",
       "      <td>91949.00000</td>\n",
       "    </tr>\n",
       "  </tbody>\n",
       "</table>\n",
       "</div>"
      ],
      "text/plain": [
       "   Hard disk capacity  Average price\n",
       "4  32 GB EMMC Storage    17640.00000\n",
       "6  64 GB EMMC Storage    23490.00000\n",
       "3          256 GB SSD    39408.00000\n",
       "0            1 TB HDD    46219.44186\n",
       "5          512 GB SSD    59948.94000\n",
       "1            1 TB SSD    72940.00000\n",
       "2          128 GB SSD    91949.00000"
      ]
     },
     "execution_count": 22,
     "metadata": {},
     "output_type": "execute_result"
    }
   ],
   "source": [
    "#Create a new dataframe with 2 columns: Hard disk size & Average price\n",
    "hp_data= [['1 TB HDD', 46219.44186],\n",
    "['1 TB SSD', 72940.00000],\n",
    "['128 GB SSD', 91949.00000],\n",
    "['256 GB SSD',  39408.00000],\n",
    "['32 GB EMMC Storage', 17640.00000],\n",
    "['512 GB SSD', 59948.94000],\n",
    "['64 GB EMMC Storage', 23490.00000]]\n",
    "\n",
    "hp_df= pd.DataFrame(hp_data, columns= ['Hard disk capacity', 'Average price'])\n",
    "hp_df.sort_values('Average price')"
   ]
  },
  {
   "cell_type": "code",
   "execution_count": 26,
   "id": "272299a0",
   "metadata": {},
   "outputs": [
    {
     "data": {
      "image/png": "[encoded data removed]",
      "text/plain": [
       "<Figure size 2304x864 with 1 Axes>"
      ]
     },
     "metadata": {
      "needs_background": "light"
     },
     "output_type": "display_data"
    }
   ],
   "source": [
    "#Arrange the bars ascendingly according to the Average price\n",
    "hp_df= hp_df.sort_values('Average price')\n",
    "\n",
    "#plot a bar chart of each hard disk size Vs average price using the dataset we just created\n",
    "x= hp_df['Hard disk capacity']\n",
    "y= hp_df['Average price']\n",
    "\n",
    "plt.figure(figsize=(32,12)) #chart size\n",
    "plt.plot(x, y, color= 'yellow')\n",
    "plt.title('Hard disk capacity Vs Average Price', fontsize= 28)\n",
    "plt.xlabel('Hard disk capacity', fontsize= 23)\n",
    "plt.xticks(fontsize=22)\n",
    "plt.yticks(fontsize= 26)\n",
    "plt.ylabel('Average Price', fontsize= 23)\n",
    "plt.show()"
   ]
  },
  {
   "cell_type": "markdown",
   "id": "39b2cc34",
   "metadata": {},
   "source": [
    "#### It looks obvious that laptops with a hard disk size of 128 GB Solid State Drive are the most expensive (91949). It doesn't really make sense that a laptop with a 1 TB SSD is cheaper than one with an SSD of 128 GB. But if you remember, we're taking the average price for each hard disk type, which means that a laptop with an SSD of 128 GB might have other high specs than that of a 1 TB. Or simply, it could be an Apple laptop so it costs more!"
   ]
  },
  {
   "cell_type": "markdown",
   "id": "a255416c",
   "metadata": {},
   "source": [
    "### Conclusions"
   ]
  },
  {
   "cell_type": "markdown",
   "id": "a2c4d7d1",
   "metadata": {},
   "source": [
    "#### 1- The dataset has 130 records and 11 columns representing 11 different features.\n",
    "#### 2- Values in RAM & Operating system are float (decimal numbers), Price values are in integer form, and the other features are in string format.\n",
    "#### 3- The lowest RAM a laptop has in this dataset is 4GB, while the highest has 16 GB.\n",
    "#### 4- The mean (average) price for a laptop is 53962, the cheapest laptop costs 17640 while the most expensive one costs 129990.\n",
    "#### 5- The lowest rating for a laptop is 2.9, while the highest one is 4.8\n",
    "#### 6- Dell laptops have the lowest rating on average (3.9), while the highest average rating goes to Apple laptops (4.58) followed by Microsoft (4.5) and MSI in the third place (4.4).\n",
    "#### 7- Higher ratings are sometimes associated with higher prices.\n",
    "#### 8- Laptop with models 2020, ROG, Swift, and TUF got the highest average ratings, while v15 and Travelmate had the lowest ratings on average (3.1 and 3.4 respectively).\n",
    "#### 9- Models with the highest average prices are MacBook, ZenBook, and 2020 (115273, 114940, 113965 respectively). While Chromebook and APU are considered to be the cheapest of all models with average prices of 20565 and 21846 respectively.\n",
    "#### 10- Core i7, 4800H, and 4800HS processors cost the most of all processor types. While Apple A9 processor is the cheapest on average.\n",
    "#### 11- As the RAM size of a laptop increases, the price increases.\n",
    "#### 12- laptops with a hard disk size of 128 GB SSD are the most expensive on average (91949). While laptops with 32 GB EMMC storage cost the least (17640).\n"
   ]
  },
  {
   "cell_type": "code",
   "execution_count": null,
   "id": "eb28e7b4",
   "metadata": {},
   "outputs": [],
   "source": []
  }
 ],
 "metadata": {
  "kernelspec": {
   "display_name": "Python 3",
   "language": "python",
   "name": "python3"
  },
  "language_info": {
   "codemirror_mode": {
    "name": "ipython",
    "version": 3
   },
   "file_extension": ".py",
   "mimetype": "text/x-python",
   "name": "python",
   "nbconvert_exporter": "python",
   "pygments_lexer": "ipython3",
   "version": "3.8.8"
  }
 },
 "nbformat": 4,
 "nbformat_minor": 5
}
